{
  "metadata": {
    "kernelspec": {
      "name": "python3",
      "display_name": "Python 3",
      "language": "python"
    },
    "language_info": {
      "name": "python",
      "version": "3.11.11",
      "mimetype": "text/x-python",
      "codemirror_mode": {
        "name": "ipython",
        "version": 3
      },
      "pygments_lexer": "ipython3",
      "nbconvert_exporter": "python",
      "file_extension": ".py"
    },
    "colab": {
      "provenance": [],
      "gpuType": "T4"
    },
    "accelerator": "GPU",
    "kaggle": {
      "accelerator": "nvidiaTeslaT4",
      "dataSources": [],
      "dockerImageVersionId": 31041,
      "isInternetEnabled": true,
      "language": "python",
      "sourceType": "notebook",
      "isGpuEnabled": true
    }
  },
  "nbformat_minor": 5,
  "nbformat": 4,
  "cells": [
    {
      "id": "ca209422",
      "cell_type": "code",
      "source": [
        "# Imports\n",
        "import torch\n",
        "import torch.nn as nn\n",
        "import numpy as np\n",
        "import gymnasium as gym\n",
        "from collections import deque\n",
        "import pygame\n",
        "import random\n",
        "import matplotlib.pyplot as plt"
      ],
      "metadata": {
        "id": "ca209422",
        "trusted": true
      },
      "outputs": [],
      "execution_count": 1
    },
    {
      "id": "UMn5CBy6T0XU",
      "cell_type": "code",
      "source": [
        "device = torch.device(\"cuda\" if torch.cuda.is_available() else \"cpu\")\n",
        "print(device)"
      ],
      "metadata": {
        "colab": {
          "base_uri": "https://localhost:8080/"
        },
        "id": "UMn5CBy6T0XU",
        "outputId": "c5bbfcaa-6c27-4801-9b95-1c9ba957d94b",
        "trusted": true
      },
      "outputs": [
        {
          "output_type": "stream",
          "name": "stdout",
          "text": [
            "cuda\n"
          ]
        }
      ],
      "execution_count": 2
    },
    {
      "id": "37adca73",
      "cell_type": "code",
      "source": [
        "# While training neural networks, we split the data into batches.\n",
        "# To improve the training, we need to remove the \"correlation\" between game states\n",
        "# The buffer starts storing states and once it reaches maximum capacity, it replaces\n",
        "# states at random which reduces the correlation.\n",
        "class ExperienceBuffer:\n",
        "    def __init__(self, capacity):\n",
        "        self.buffer = deque(maxlen=capacity)\n",
        "\n",
        "    def push(self, state, action, reward, next_state, done):\n",
        "        self.buffer.append((state, action, reward, next_state, done))\n",
        "\n",
        "    def sample(self, batch_size):\n",
        "        batch = random.sample(self.buffer, batch_size)\n",
        "        states, actions, rewards, next_states, dones = zip(*batch)\n",
        "        return states, actions, rewards, next_states, dones\n",
        "\n",
        "    def __len__(self):\n",
        "        return len(self.buffer)\n"
      ],
      "metadata": {
        "id": "37adca73",
        "trusted": true
      },
      "outputs": [],
      "execution_count": 3
    },
    {
      "id": "529db395-1c95-477c-99a7-563770d14e22",
      "cell_type": "code",
      "source": [
        "class ChaseEscapeEnv(gym.Env):\n",
        "    metadata = {\"render_modes\": [\"human\"], \"render_fps\": 30}\n",
        "\n",
        "    def __init__(self, render_mode=None):\n",
        "        super().__init__()\n",
        "\n",
        "        self.dt = 0.1\n",
        "        self.max_speed = 0.4\n",
        "        self.agent_radius = 0.05\n",
        "        self.target_radius = 0.05\n",
        "        self.chaser_radius = 0.07\n",
        "        self.chaser_speed = 0.03\n",
        "\n",
        "        self.action_space = gym.spaces.MultiDiscrete([3, 3])  # actions in {0,1,2} map to [-1,0,1]\n",
        "        self.observation_space = gym.spaces.Box(\n",
        "            low=-1,\n",
        "            high=1,\n",
        "            shape=(8,),\n",
        "            dtype=np.float32,\n",
        "        )\n",
        "\n",
        "        self.render_mode = render_mode\n",
        "        self.screen_size = 500\n",
        "        self.np_random = None\n",
        "\n",
        "        if render_mode == \"human\":\n",
        "            pygame.init()\n",
        "            self.screen = pygame.display.set_mode((self.screen_size, self.screen_size))\n",
        "            self.clock = pygame.time.Clock()\n",
        "\n",
        "    def sample_pos(self, far_from=None, min_dist=0.5):\n",
        "        while True:\n",
        "            pos = self.np_random.uniform(low=-0.8, high=0.8, size=(2,))\n",
        "            if far_from is None or np.linalg.norm(pos - far_from) >= min_dist:\n",
        "                return pos\n",
        "\n",
        "    def reset(self, seed=None, options=None):\n",
        "        super().reset(seed=seed)\n",
        "\n",
        "        self.agent_pos = self.sample_pos()\n",
        "        self.agent_vel = np.zeros(2, dtype=np.float32)\n",
        "        self.target_pos = self.sample_pos(far_from=self.agent_pos, min_dist=0.5)\n",
        "        self.chaser_pos = self.sample_pos(far_from=self.agent_pos, min_dist=0.7)\n",
        "\n",
        "        return self._get_obs(), {}\n",
        "\n",
        "    def _get_obs(self):\n",
        "        # TODO: Decide how to pass the state (don't use pixel values)\n",
        "        return (*self.agent_pos,*(self.target_pos-self.agent_pos),*(self.chaser_pos-self.agent_pos),*self.agent_vel)\n",
        "\n",
        "    def _get_info(self):\n",
        "        return {}\n",
        "\n",
        "    def step(self, action):\n",
        "        # TODO: Add reward scheme\n",
        "        # 1) Try to make the agent stay within bounds\n",
        "        # 2) The agent shouldn't idle around\n",
        "        # 3) The agent should go for the reward\n",
        "        # 4) The agent should avoid the chaser\n",
        "        food_eaten=False\n",
        "        reward=0\n",
        "        accel = (np.array(action) - 1) * 0.1\n",
        "        self.agent_vel += accel\n",
        "        self.agent_vel = np.clip(self.agent_vel, -self.max_speed, self.max_speed)\n",
        "        prev_pos=self.agent_pos\n",
        "        self.agent_pos += self.agent_vel * self.dt\n",
        "        Y=self.agent_pos\n",
        "        self.agent_pos = np.clip(self.agent_pos, -1, 1)\n",
        "\n",
        "        # if np.abs(self.agent_pos)[0]>=0.9 or np.abs(self.agent_pos)[1]>=0.9:\n",
        "        #     reward-=0.001\n",
        "        # else :\n",
        "        #     reward+=0.001\n",
        "\n",
        "        if np.abs(self.agent_pos)[0]>=0.90 and np.abs(self.agent_pos)[1]>=0.90:\n",
        "            reward-=float((np.abs(self.agent_pos)[0]-0.90)*0.1)\n",
        "\n",
        "        direction = self.agent_pos - self.chaser_pos\n",
        "        norm = np.linalg.norm(direction)\n",
        "\n",
        "        if norm > 1e-5:\n",
        "            self.chaser_pos += self.chaser_speed * direction / norm\n",
        "\n",
        "        dist_to_target = np.linalg.norm(self.agent_pos - self.target_pos)\n",
        "        dist_to_chaser = np.linalg.norm(self.agent_pos - self.chaser_pos)\n",
        "        prev_dist_to_target= np.linalg.norm(self.target_pos-prev_pos)\n",
        "        prev_dist_to_chaser = np.linalg.norm(self.chaser_pos-prev_pos)\n",
        "        terminated = False\n",
        "\n",
        "\n",
        "        if dist_to_target<=0.75:\n",
        "            reward+=float((1-dist_to_target)*0.05)\n",
        "\n",
        "        if prev_dist_to_chaser>=dist_to_chaser and dist_to_chaser<=0.20:\n",
        "            reward-=0.05\n",
        "\n",
        "        reward-=0.002\n",
        "\n",
        "        if dist_to_target < self.agent_radius + self.target_radius:\n",
        "            reward+=20\n",
        "            self.target_pos = self.sample_pos(far_from=self.agent_pos, min_dist=0.5)\n",
        "            food_eaten=True\n",
        "\n",
        "        if dist_to_chaser < self.agent_radius + self.chaser_radius:\n",
        "            reward-=5\n",
        "            # reward-=2\n",
        "            terminated = True\n",
        "\n",
        "        return self._get_obs(), reward, terminated, food_eaten ,False, self._get_info()\n",
        "\n",
        "    def render(self):\n",
        "        if self.render_mode != \"human\":\n",
        "            return\n",
        "\n",
        "        for event in pygame.event.get():\n",
        "            if event.type == pygame.QUIT:\n",
        "                self.close()\n",
        "\n",
        "        self.screen.fill((255, 255, 255))\n",
        "\n",
        "        def to_screen(p):\n",
        "            x = int((p[0] + 1) / 2 * self.screen_size)\n",
        "            y = int((1 - (p[1] + 1) / 2) * self.screen_size)\n",
        "            return x, y\n",
        "\n",
        "        pygame.draw.circle(self.screen, (0, 255, 0), to_screen(self.target_pos), int(self.target_radius * self.screen_size*0.5))\n",
        "        pygame.draw.circle(self.screen, (0, 0, 255), to_screen(self.agent_pos), int(self.agent_radius * self.screen_size*0.5))\n",
        "        pygame.draw.circle(self.screen, (255, 0, 0), to_screen(self.chaser_pos), int(self.chaser_radius * self.screen_size*0.5))\n",
        "\n",
        "        pygame.display.flip()\n",
        "        self.clock.tick(self.metadata[\"render_fps\"])\n",
        "\n",
        "    def close(self):\n",
        "        if self.render_mode == \"human\":\n",
        "            pygame.quit()"
      ],
      "metadata": {
        "trusted": true,
        "id": "529db395-1c95-477c-99a7-563770d14e22"
      },
      "outputs": [],
      "execution_count": 6
    },
    {
      "id": "62a3af70-e63f-4b29-bc75-c34accb69c1b",
      "cell_type": "code",
      "source": [
        "def train_ChaseEscapEnv_DDQN_2(model,target_model,loss_fn,optimizer,episodes=1000,epsilon=1,gamma=0.95,sync_batch_freq=100,train_batch_size=128,replay_buffer_size=100000):\n",
        "\n",
        "  env = ChaseEscapeEnv()\n",
        "  global rewards_list,number_of_moves_list,no_of_food_eaten_list\n",
        "  rewards_list=[]\n",
        "  number_of_moves_list=[]\n",
        "  losses=[]\n",
        "  no_of_food_eaten_list=[]\n",
        "\n",
        "  np.random.seed(42)\n",
        "  action_selection_array=np.arange(9)\n",
        "\n",
        "  # target_model=DQN_chaseescape_1().to(device)\n",
        "  target_model.load_state_dict(model.state_dict())\n",
        "  model.train()\n",
        "  target_model.eval()\n",
        "\n",
        "  Buffer=ExperienceBuffer(replay_buffer_size)\n",
        "  iteration=0\n",
        "  for episode in range(episodes):\n",
        "\n",
        "    total_reward=0\n",
        "    done=False\n",
        "    obs,_=env.reset()\n",
        "    moves=0\n",
        "    no_of_food_eaten=0\n",
        "    while not done:\n",
        "      moves+=1\n",
        "      iteration+=1\n",
        "      state_i = torch.tensor(obs, dtype=torch.float32).unsqueeze(0).to(device)\n",
        "\n",
        "      with torch.no_grad():\n",
        "        q_values = model(state_i)\n",
        "\n",
        "      if np.random.rand()<epsilon:\n",
        "        action = np.random.choice(action_selection_array)\n",
        "      else:\n",
        "        action = torch.argmax(q_values).item()\n",
        "\n",
        "      obs,reward,done,food_eaten_check,truncated,_ = env.step((action%3,(action//3)%3))\n",
        "\n",
        "      if food_eaten_check:\n",
        "        no_of_food_eaten+=1\n",
        "      total_reward+=reward\n",
        "      state_f = torch.tensor(obs, dtype=torch.float32).to(device)\n",
        "\n",
        "      Buffer.push(state_i,action,reward,state_f,done)\n",
        "\n",
        "      if(len(Buffer)>train_batch_size):\n",
        "        states, actions, rewards, next_states, dones = Buffer.sample(train_batch_size)\n",
        "        states=torch.stack(states).to(device)\n",
        "        actions=torch.tensor(actions).to(device)\n",
        "        rewards=torch.tensor(rewards).to(device)\n",
        "        next_states=torch.stack(next_states).to(device)\n",
        "        dones=torch.Tensor(dones).to(device)\n",
        "\n",
        "        with torch.no_grad():\n",
        "          A=torch.max(model(next_states),dim=1,keepdim=True).indices\n",
        "          A=target_model(next_states).gather(1,A).squeeze(1)\n",
        "          update=rewards+gamma*(1-dones)*(A)\n",
        "        q_values_predicted=model(states)\n",
        "        q_values_to_change=q_values_predicted.gather(1,actions.unsqueeze(1)).squeeze(1)\n",
        "        loss=loss_fn(q_values_to_change,update)\n",
        "        losses.append(loss.item())\n",
        "        optimizer.zero_grad()\n",
        "        loss.backward()\n",
        "        optimizer.step()\n",
        "      if(iteration%sync_batch_freq==0):\n",
        "        target_model.load_state_dict(model.state_dict())\n",
        "        target_model.eval()\n",
        "\n",
        "      if no_of_food_eaten==3:\n",
        "          break\n",
        "\n",
        "    if epsilon>0.1:\n",
        "      epsilon*=0.99\n",
        "\n",
        "    rewards_list.append(total_reward)\n",
        "    number_of_moves_list.append(moves)\n",
        "    no_of_food_eaten_list.append(no_of_food_eaten)\n",
        "\n",
        "    ##Uncomment for Monitoring Training\n",
        "    # if(episode >= 50 and episode%10==0):\n",
        "    #   print(f\"Episode {episode} - Average Reward : {sum(rewards_list[-50:])/50:.2f} Average Moves : {sum(number_of_moves_list[-50:])/50} Average Food Eaten : {sum(no_of_food_eaten_list[-50:])/50:.2f}\")\n",
        "    # if len(no_of_food_eaten_list) > 50 and sum(no_of_food_eaten_list[-50:])/50 >= 0.6:\n",
        "    #     print(f\"Episode {episode} - Average Reward : {sum(rewards_list[-50:])/50:.2f} Average Moves : {sum(number_of_moves_list[-50:])/50} Average Food Eaten : {sum(no_of_food_eaten_list[-50:])/50:.2f}\")\n",
        "    #     break\n",
        "    if sum(no_of_food_eaten_list[-30:])/30>=2.9:\n",
        "        break\n",
        "  env.close()\n"
      ],
      "metadata": {
        "trusted": true,
        "id": "62a3af70-e63f-4b29-bc75-c34accb69c1b"
      },
      "outputs": [],
      "execution_count": 26
    },
    {
      "cell_type": "code",
      "source": [
        "def evaluate_modelChaseEscapeEnv(model,episodes=10, render=True,moves_limit=500):\n",
        "    env = ChaseEscapeEnv(render_mode=\"human\")\n",
        "    target_reached_list=[]\n",
        "    moves_list=[]\n",
        "    # model.eval()\n",
        "    rewards=[]\n",
        "    for episode in range(episodes):\n",
        "        obs, _ = env.reset()\n",
        "        total_reward = 0\n",
        "        done = False\n",
        "        moves=0\n",
        "        target_reached=0\n",
        "        while not done:\n",
        "            moves+=1\n",
        "            obs+=np.random.rand(len(obs))*0.1 #To Avoid the Agent getting Stuck in Loops\n",
        "            state = torch.tensor(obs, dtype=torch.float32).unsqueeze(0).to(device)\n",
        "            with torch.no_grad():\n",
        "                q_values = model(state)\n",
        "                action = torch.argmax(q_values, dim=1).item()\n",
        "            obs, reward, done, k,_, _ = env.step((action%3,(action//3)%3))\n",
        "            if k:\n",
        "              target_reached+=1\n",
        "            if render:\n",
        "                env.render()\n",
        "            if moves>moves_limit:\n",
        "              break\n",
        "        rewards.append(total_reward)\n",
        "        moves_list.append(moves)\n",
        "        target_reached_list.append(target_reached)\n",
        "        print(f\"Episode {episode + 1}: No Of Moves = {moves} Target Chased = {target_reached}\")\n",
        "    env.close()\n",
        "    avg_moves = sum(moves_list)/ episodes\n",
        "    avg_target = sum(target_reached_list)/episodes\n",
        "    print(f\"Average Number of Moves over {episodes} episodes: {avg_moves:.2f}\")\n",
        "    print(f\"Average Number of times Target Chased over {episodes} episodes: {avg_target:.2f}\")\n",
        "\n",
        "\n",
        "\n"
      ],
      "metadata": {
        "id": "aYUXmRdwve05"
      },
      "id": "aYUXmRdwve05",
      "execution_count": 36,
      "outputs": []
    },
    {
      "cell_type": "code",
      "source": [
        "class DQN_chaseescape_1(torch.nn.Module):\n",
        "    def __init__(self):\n",
        "        super().__init__()\n",
        "        self.sequential_net=nn.Sequential(\n",
        "                            nn.Linear(8,128),\n",
        "                            nn.ReLU(),\n",
        "                            nn.Linear(128,128),\n",
        "                            nn.ReLU(),\n",
        "                            nn.Linear(128,64),\n",
        "                            nn.ReLU(),\n",
        "                            nn.Linear(64,9),\n",
        "                            )\n",
        "    def forward(self, input):\n",
        "        input=input.view(-1,8)\n",
        "        return self.sequential_net(input)\n",
        "model=DQN_chaseescape_1().to(device)\n",
        "target_model=DQN_chaseescape_1().to(device)\n",
        "loss_fn = nn.MSELoss()\n",
        "optimizer=torch.optim.Adam(model.parameters(),lr=0.0001)\n",
        "train_ChaseEscapEnv_DDQN_2(model,target_model,loss_fn,optimizer,replay_buffer_size=150000,episodes=2000)"
      ],
      "metadata": {
        "id": "BDoIts2r_PWP"
      },
      "id": "BDoIts2r_PWP",
      "execution_count": null,
      "outputs": []
    },
    {
      "cell_type": "code",
      "source": [
        "plt.plot(np.convolve(rewards_list,np.ones(30)*(1/30),mode='valid'),label='Reward')\n",
        "plt.plot(np.convolve(number_of_moves_list,np.ones(30)*(1/30),mode='valid'),c='red',label='Number of Moves Played')\n",
        "plt.legend()\n",
        "plt.show()"
      ],
      "metadata": {
        "colab": {
          "base_uri": "https://localhost:8080/",
          "height": 430
        },
        "id": "Tv8mXqbY-7CH",
        "outputId": "b11c5f88-79be-499f-e306-84db5b028d81"
      },
      "id": "Tv8mXqbY-7CH",
      "execution_count": 51,
      "outputs": [
        {
          "output_type": "display_data",
          "data": {
            "text/plain": [
              "<Figure size 640x480 with 1 Axes>"
            ],
            "image/png": "[encoded data removed]"
          },
          "metadata": {}
        }
      ]
    },
    {
      "cell_type": "code",
      "source": [
        "plt.plot(np.convolve(no_of_food_eaten_list,np.ones(30)*(1/30),mode='valid'),c='orange',label='Number Of Times Target Chased')\n",
        "plt.legend()\n",
        "plt.show()"
      ],
      "metadata": {
        "colab": {
          "base_uri": "https://localhost:8080/",
          "height": 434
        },
        "id": "3vliWUu2-6tF",
        "outputId": "d262b5ac-9a66-4a97-867e-e111693fb891"
      },
      "id": "3vliWUu2-6tF",
      "execution_count": 52,
      "outputs": [
        {
          "output_type": "display_data",
          "data": {
            "text/plain": [
              "<Figure size 640x480 with 1 Axes>"
            ],
            "image/png": "[encoded data removed]"
          },
          "metadata": {}
        }
      ]
    },
    {
      "cell_type": "code",
      "source": [
        "evaluate_modelChaseEscapeEnv(model,episodes=50,moves_limit=1500,render=False)"
      ],
      "metadata": {
        "colab": {
          "base_uri": "https://localhost:8080/"
        },
        "id": "yZAafEc3_EU2",
        "outputId": "aeb56e1b-2334-4578-f8ac-84fae998f06a"
      },
      "id": "yZAafEc3_EU2",
      "execution_count": 54,
      "outputs": [
        {
          "output_type": "stream",
          "name": "stdout",
          "text": [
            "Episode 1: No Of Moves = 274 Target Chased = 8\n",
            "Episode 2: No Of Moves = 503 Target Chased = 18\n",
            "Episode 3: No Of Moves = 98 Target Chased = 2\n",
            "Episode 4: No Of Moves = 1501 Target Chased = 48\n",
            "Episode 5: No Of Moves = 19 Target Chased = 0\n",
            "Episode 6: No Of Moves = 63 Target Chased = 1\n",
            "Episode 7: No Of Moves = 46 Target Chased = 2\n",
            "Episode 8: No Of Moves = 17 Target Chased = 0\n",
            "Episode 9: No Of Moves = 790 Target Chased = 29\n",
            "Episode 10: No Of Moves = 860 Target Chased = 28\n",
            "Episode 11: No Of Moves = 32 Target Chased = 0\n",
            "Episode 12: No Of Moves = 764 Target Chased = 24\n",
            "Episode 13: No Of Moves = 24 Target Chased = 0\n",
            "Episode 14: No Of Moves = 70 Target Chased = 3\n",
            "Episode 15: No Of Moves = 43 Target Chased = 0\n",
            "Episode 16: No Of Moves = 848 Target Chased = 33\n",
            "Episode 17: No Of Moves = 135 Target Chased = 5\n",
            "Episode 18: No Of Moves = 269 Target Chased = 7\n",
            "Episode 19: No Of Moves = 612 Target Chased = 19\n",
            "Episode 20: No Of Moves = 1501 Target Chased = 50\n",
            "Episode 21: No Of Moves = 1402 Target Chased = 51\n",
            "Episode 22: No Of Moves = 62 Target Chased = 0\n",
            "Episode 23: No Of Moves = 1501 Target Chased = 46\n",
            "Episode 24: No Of Moves = 217 Target Chased = 8\n",
            "Episode 25: No Of Moves = 1501 Target Chased = 48\n",
            "Episode 26: No Of Moves = 508 Target Chased = 14\n",
            "Episode 27: No Of Moves = 174 Target Chased = 5\n",
            "Episode 28: No Of Moves = 24 Target Chased = 1\n",
            "Episode 29: No Of Moves = 862 Target Chased = 28\n",
            "Episode 30: No Of Moves = 449 Target Chased = 18\n",
            "Episode 31: No Of Moves = 1491 Target Chased = 53\n",
            "Episode 32: No Of Moves = 1501 Target Chased = 57\n",
            "Episode 33: No Of Moves = 1453 Target Chased = 48\n",
            "Episode 34: No Of Moves = 301 Target Chased = 7\n",
            "Episode 35: No Of Moves = 351 Target Chased = 8\n",
            "Episode 36: No Of Moves = 1501 Target Chased = 48\n",
            "Episode 37: No Of Moves = 591 Target Chased = 19\n",
            "Episode 38: No Of Moves = 180 Target Chased = 5\n",
            "Episode 39: No Of Moves = 514 Target Chased = 15\n",
            "Episode 40: No Of Moves = 1501 Target Chased = 48\n",
            "Episode 41: No Of Moves = 1165 Target Chased = 37\n",
            "Episode 42: No Of Moves = 852 Target Chased = 25\n",
            "Episode 43: No Of Moves = 38 Target Chased = 1\n",
            "Episode 44: No Of Moves = 315 Target Chased = 11\n",
            "Episode 45: No Of Moves = 247 Target Chased = 8\n",
            "Episode 46: No Of Moves = 1501 Target Chased = 50\n",
            "Episode 47: No Of Moves = 1038 Target Chased = 34\n",
            "Episode 48: No Of Moves = 1035 Target Chased = 32\n",
            "Episode 49: No Of Moves = 763 Target Chased = 26\n",
            "Episode 50: No Of Moves = 440 Target Chased = 10\n",
            "Average Number of Moves over 50 episodes: 638.94\n",
            "Average Number of times Target Chased over 50 episodes: 20.76\n"
          ]
        }
      ]
    },
    {
      "cell_type": "markdown",
      "source": [
        "As we can see , When we trained our model using a **`DDQN-Double Deep Q Network`** the agent is able to chase the target approxiamately 20 times per episode as compared to about 10 times per episodes in **`DQN-Deep Q Network`** - implemented in Week-2 . Also the stability in training is higher in **`DDQN`** than **`DQN`**"
      ],
      "metadata": {
        "id": "TRW8WWf8BWcx"
      },
      "id": "TRW8WWf8BWcx"
    },
    {
      "cell_type": "code",
      "source": [],
      "metadata": {
        "id": "YpdHzuXgBVvw"
      },
      "id": "YpdHzuXgBVvw",
      "execution_count": null,
      "outputs": []
    },
    {
      "cell_type": "code",
      "source": [],
      "metadata": {
        "id": "bds4ETXg_JMr"
      },
      "id": "bds4ETXg_JMr",
      "execution_count": null,
      "outputs": []
    }
  ]
}