{
  "nbformat": 4,
  "nbformat_minor": 0,
  "metadata": {
    "colab": {
      "provenance": [],
      "gpuType": "T4"
    },
    "kernelspec": {
      "name": "python3",
      "display_name": "Python 3"
    },
    "language_info": {
      "name": "python"
    },
    "accelerator": "GPU"
  },
  "cells": [
    {
      "cell_type": "code",
      "execution_count": null,
      "metadata": {
        "id": "2xXpHF8HNkWd"
      },
      "outputs": [],
      "source": [
        "import torch\n",
        "import torch.nn as nn\n",
        "import numpy as np\n",
        "import gymnasium as gym\n",
        "from collections import deque\n",
        "import pygame\n",
        "import random\n",
        "import matplotlib.pyplot as plt\n",
        "import torch.nn.functional as F\n"
      ]
    },
    {
      "cell_type": "code",
      "source": [
        "device = torch.device(\"cuda\" if torch.cuda.is_available() else \"cpu\")\n",
        "print(device)"
      ],
      "metadata": {
        "colab": {
          "base_uri": "https://localhost:8080/"
        },
        "id": "NUyt7VHwQt60",
        "outputId": "c7e43dd7-0965-4e33-bf6b-0704617a21cc"
      },
      "execution_count": null,
      "outputs": [
        {
          "output_type": "stream",
          "name": "stdout",
          "text": [
            "cuda\n"
          ]
        }
      ]
    },
    {
      "cell_type": "code",
      "source": [
        "class ActorCritic_CartPole(torch.nn.Module):\n",
        "    def __init__(self):\n",
        "        super().__init__()\n",
        "        self.layer_1=nn.Linear(4,128)\n",
        "        self.layer_1_actor=nn.Linear(128,2)\n",
        "        self.layer_1_critic=nn.Linear(128,1)\n",
        "\n",
        "    def forward(self, input):\n",
        "        input=input.view(-1,4)\n",
        "        x=F.relu(self.layer_1(input))\n",
        "        policy=self.layer_1_actor(x)\n",
        "        critic=self.layer_1_critic(x)\n",
        "        return policy,critic"
      ],
      "metadata": {
        "id": "OgiTTpxkucB-"
      },
      "execution_count": null,
      "outputs": []
    },
    {
      "cell_type": "code",
      "source": [
        "def ActorCriticTrain_CartPole(model,optimizer,episodes=1600,gamma=0.99):\n",
        "  global total_rewards\n",
        "  total_rewards=[]\n",
        "  env=gym.make('CartPole-v1')\n",
        "  model.train()\n",
        "  max_length=500\n",
        "  for episode in range(episodes):\n",
        "    done=False\n",
        "    obs,_=env.reset()\n",
        "    total_reward=0\n",
        "    length=0\n",
        "    log_prob_list=[]\n",
        "    rewards=[]\n",
        "    values=[]\n",
        "    while not done:\n",
        "      state=torch.from_numpy(obs).float().to(device)\n",
        "      policy,value=model(state)\n",
        "      policy=torch.squeeze(policy)\n",
        "      probs = torch.nn.functional.softmax(policy, dim=0)\n",
        "      action = torch.multinomial(probs, num_samples=1).item()\n",
        "      log_prob=torch.log(probs[action])\n",
        "      obs,reward,done,_,_=env.step(action)\n",
        "      total_reward+=reward\n",
        "      state=torch.from_numpy(obs).float().to(device)\n",
        "      log_prob_list.append(log_prob)\n",
        "      rewards.append(reward)\n",
        "      values.append(value.squeeze())\n",
        "      length+=1\n",
        "      if length==max_length:\n",
        "        done=True\n",
        "\n",
        "    total_rewards.append(total_reward)\n",
        "\n",
        "    ep_len = len(rewards)\n",
        "    rewards = torch.tensor(rewards, dtype=torch.float32).to(device)\n",
        "    discounted = rewards * torch.pow(gamma, torch.arange(ep_len, dtype=torch.float32).to(device))\n",
        "    returns = torch.flip(torch.cumsum(torch.flip(discounted, dims=[0]), dim=0), dims=[0])\n",
        "    returns = returns / torch.pow(gamma, torch.arange(ep_len, dtype=torch.float32)).to(device)\n",
        "\n",
        "    log_prob_list=torch.stack(log_prob_list).to(device)\n",
        "    values=torch.stack(values).to(device)\n",
        "    actor_loss=-torch.sum((returns-values.detach())*log_prob_list)\n",
        "    critic_loss=F.mse_loss(values,returns)\n",
        "    loss=actor_loss+critic_loss\n",
        "    optimizer.zero_grad()\n",
        "    loss.backward()\n",
        "    optimizer.step()\n",
        "\n",
        "    if episode%50==0 and episode>0:\n",
        "      print(f\"Episode = {episode} Average Reward = {sum(total_rewards[-50::])/50 :.2f}\")\n",
        "      if sum(total_rewards[-50::])/50>=470:\n",
        "        break\n",
        "\n",
        "  env.close()"
      ],
      "metadata": {
        "id": "z9NL2dRWNqoo"
      },
      "execution_count": null,
      "outputs": []
    },
    {
      "cell_type": "code",
      "source": [
        "model=ActorCritic_CartPole().to(device)\n",
        "optimizer=torch.optim.Adam(model.parameters(),lr=0.001)\n",
        "ActorCriticTrain_CartPole(model,optimizer)"
      ],
      "metadata": {
        "id": "ABoHNmFkugQj",
        "outputId": "70611e62-c6e1-495a-9c51-1f8fefe412d4",
        "colab": {
          "base_uri": "https://localhost:8080/"
        }
      },
      "execution_count": null,
      "outputs": [
        {
          "output_type": "stream",
          "name": "stdout",
          "text": [
            "Episode = 50 Average Reward = 27.86\n",
            "Episode = 100 Average Reward = 35.86\n",
            "Episode = 150 Average Reward = 47.48\n",
            "Episode = 200 Average Reward = 53.16\n",
            "Episode = 250 Average Reward = 87.38\n",
            "Episode = 300 Average Reward = 124.70\n",
            "Episode = 350 Average Reward = 150.66\n",
            "Episode = 400 Average Reward = 248.66\n",
            "Episode = 450 Average Reward = 322.66\n",
            "Episode = 500 Average Reward = 465.58\n",
            "Episode = 550 Average Reward = 474.96\n"
          ]
        }
      ]
    },
    {
      "cell_type": "code",
      "source": [
        "plt.plot(np.convolve(total_rewards,np.ones(50)*0.02,mode='valid'),label='Avergae Rewards')\n",
        "plt.legend()\n",
        "plt.plot()"
      ],
      "metadata": {
        "id": "lFBgtvnmNqra",
        "outputId": "60100c17-3916-4a9f-9004-3b8d87c0b63f",
        "colab": {
          "base_uri": "https://localhost:8080/",
          "height": 451
        }
      },
      "execution_count": null,
      "outputs": [
        {
          "output_type": "execute_result",
          "data": {
            "text/plain": [
              "[]"
            ]
          },
          "metadata": {},
          "execution_count": 35
        },
        {
          "output_type": "display_data",
          "data": {
            "text/plain": [
              "<Figure size 640x480 with 1 Axes>"
            ],
            "image/png": "[encoded data removed]"
          },
          "metadata": {}
        }
      ]
    },
    {
      "cell_type": "code",
      "source": [
        "def evaluate_cartpole_model(model, episodes=15, render=True):\n",
        "    env = gym.make(\"CartPole-v1\", render_mode=\"human\" if render else None)\n",
        "    obs_dim = env.observation_space.shape[0]\n",
        "    n_actions = env.action_space.n\n",
        "\n",
        "    model.eval()\n",
        "\n",
        "    rewards = []\n",
        "\n",
        "    for episode in range(episodes):\n",
        "        obs, _ = env.reset()\n",
        "        total_reward = 0\n",
        "        done = False\n",
        "\n",
        "        while not done:\n",
        "            state = torch.tensor(obs, dtype=torch.float32).unsqueeze(0).to(device)\n",
        "            with torch.no_grad():\n",
        "                q_values = model(state)[0]\n",
        "                action = torch.argmax(q_values, dim=1).item()\n",
        "            obs, reward, done, truncated, _ = env.step(action)\n",
        "            if truncated:\n",
        "              done=True\n",
        "            total_reward += reward\n",
        "            if render:\n",
        "                env.render()\n",
        "        rewards.append(total_reward)\n",
        "        print(f\"Episode {episode + 1}: Reward = {total_reward}\")\n",
        "\n",
        "    env.close()\n",
        "    avg_reward = sum(rewards) / episodes\n",
        "    print(f\"Average reward over {episodes} episodes: {avg_reward}\")"
      ],
      "metadata": {
        "id": "FvxUbsARNqt4"
      },
      "execution_count": null,
      "outputs": []
    },
    {
      "cell_type": "code",
      "source": [
        "evaluate_cartpole_model(model,render=False)"
      ],
      "metadata": {
        "id": "Yj7dAYhXNqv2",
        "outputId": "76f0a789-d356-4888-e78f-2c01b8062e5b",
        "colab": {
          "base_uri": "https://localhost:8080/"
        }
      },
      "execution_count": null,
      "outputs": [
        {
          "output_type": "stream",
          "name": "stdout",
          "text": [
            "Episode 1: Reward = 500.0\n",
            "Episode 2: Reward = 500.0\n",
            "Episode 3: Reward = 500.0\n",
            "Episode 4: Reward = 500.0\n",
            "Episode 5: Reward = 500.0\n",
            "Episode 6: Reward = 500.0\n",
            "Episode 7: Reward = 500.0\n",
            "Episode 8: Reward = 500.0\n",
            "Episode 9: Reward = 500.0\n",
            "Episode 10: Reward = 500.0\n",
            "Episode 11: Reward = 500.0\n",
            "Episode 12: Reward = 500.0\n",
            "Episode 13: Reward = 500.0\n",
            "Episode 14: Reward = 500.0\n",
            "Episode 15: Reward = 500.0\n",
            "Average reward over 15 episodes: 500.0\n"
          ]
        }
      ]
    },
    {
      "cell_type": "code",
      "source": [],
      "metadata": {
        "id": "kcGPKBZOvANU"
      },
      "execution_count": null,
      "outputs": []
    }
  ]
}