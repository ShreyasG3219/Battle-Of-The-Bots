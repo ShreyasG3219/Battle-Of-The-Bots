{
  "cells": [
    {
      "cell_type": "code",
      "execution_count": 1,
      "id": "ca209422",
      "metadata": {
        "id": "ca209422"
      },
      "outputs": [],
      "source": [
        "# Imports\n",
        "import torch\n",
        "import torch.nn as nn\n",
        "import numpy as np\n",
        "import gymnasium as gym\n",
        "from collections import deque\n",
        "import pygame\n",
        "import random\n",
        "import matplotlib.pyplot as plt"
      ]
    },
    {
      "cell_type": "code",
      "source": [
        "device = torch.device(\"cuda\" if torch.cuda.is_available() else \"cpu\")\n",
        "print(device)"
      ],
      "metadata": {
        "colab": {
          "base_uri": "https://localhost:8080/"
        },
        "id": "UMn5CBy6T0XU",
        "outputId": "06ea0260-0b8f-49cb-8c26-31d4b5ea0157"
      },
      "id": "UMn5CBy6T0XU",
      "execution_count": 2,
      "outputs": [
        {
          "output_type": "stream",
          "name": "stdout",
          "text": [
            "cuda\n"
          ]
        }
      ]
    },
    {
      "cell_type": "code",
      "execution_count": 3,
      "id": "eddc73b4",
      "metadata": {
        "id": "eddc73b4"
      },
      "outputs": [],
      "source": [
        "# DQN model which takes in the state as an input and outputs predicted q values for every possible action\n",
        "class DQN(torch.nn.Module):\n",
        "    def __init__(self, state_space, action_space):\n",
        "        super().__init__()\n",
        "        # Add your architecture parameters here\n",
        "        # You can use nn.Functional\n",
        "        # Remember that the input is of size batch_size x state_space\n",
        "        # and the output is of size batch_size x action_space (ulta ho sakta hai dekh lo)\n",
        "        # TODO: Add code here\n",
        "        self.state_space=state_space\n",
        "        self.action_space=action_space\n",
        "        self.sequential_net=nn.Sequential(nn.Linear(self.state_space,128),\n",
        "                             nn.ReLU(),\n",
        "                             nn.Linear(128,128),\n",
        "                             nn.ReLU(),\n",
        "                             nn.Linear(128,self.action_space))\n",
        "    def forward(self, input):\n",
        "        # TODO: Complete based on your implementation\n",
        "        output=self.sequential_net(input)\n",
        "        return output\n"
      ]
    },
    {
      "cell_type": "code",
      "execution_count": 4,
      "id": "37adca73",
      "metadata": {
        "id": "37adca73"
      },
      "outputs": [],
      "source": [
        "# While training neural networks, we split the data into batches.\n",
        "# To improve the training, we need to remove the \"correlation\" between game states\n",
        "# The buffer starts storing states and once it reaches maximum capacity, it replaces\n",
        "# states at random which reduces the correlation.\n",
        "class ExperienceBuffer:\n",
        "    def __init__(self, capacity):\n",
        "        self.buffer = deque(maxlen=capacity)\n",
        "\n",
        "    def push(self, state, action, reward, next_state, done):\n",
        "        self.buffer.append((state, action, reward, next_state, done))\n",
        "\n",
        "    def sample(self, batch_size):\n",
        "        batch = random.sample(self.buffer, batch_size)\n",
        "        states, actions, rewards, next_states, dones = zip(*batch)\n",
        "        return states, actions, rewards, next_states, dones\n",
        "\n",
        "    def __len__(self):\n",
        "        return len(self.buffer)\n"
      ]
    },
    {
      "cell_type": "code",
      "execution_count": 5,
      "id": "7fe4d26a",
      "metadata": {
        "id": "7fe4d26a"
      },
      "outputs": [],
      "source": [
        "# TODO: Implement training logic for CartPole environment here\n",
        "# Remember to use the ExperienceBuffer and a target network\n",
        "# Details can be found in the book sent in the group\n",
        "def train_model(model,loss_fn,optimizer,episodes=600,epsilon=1,gamma=0.99,sync_batch_freq=100,train_batch_size=64,replay_buffer_size=10000):\n",
        "\n",
        "  env = gym.make(\"CartPole-v1\")\n",
        "  rewards_list=[]\n",
        "  losses=[]\n",
        "  obs_dim = env.observation_space.shape[0]\n",
        "  n_actions = env.action_space.n\n",
        "\n",
        "  np.random.seed(42)\n",
        "  action_selection_array=np.arange(n_actions)\n",
        "\n",
        "  target_model=DQN(obs_dim,n_actions).to(device)\n",
        "  target_model.load_state_dict(model.state_dict())\n",
        "  model.train()\n",
        "  target_model.eval()\n",
        "\n",
        "  Buffer=ExperienceBuffer(replay_buffer_size)\n",
        "  iteration=0\n",
        "  for episode in range(episodes):\n",
        "\n",
        "    total_reward=0\n",
        "    done=False\n",
        "    obs,_=env.reset()\n",
        "    mov=0\n",
        "\n",
        "    while not done:\n",
        "\n",
        "      iteration+=1\n",
        "      mov+=1\n",
        "      state_i = torch.tensor(obs, dtype=torch.float32).unsqueeze(0).to(device)\n",
        "\n",
        "      with torch.no_grad():\n",
        "        q_values = model(state_i)\n",
        "\n",
        "      if np.random.rand()<epsilon:\n",
        "        action = np.random.choice(action_selection_array)\n",
        "      else:\n",
        "        action = torch.argmax(q_values).item()\n",
        "\n",
        "      obs,reward,done,truncated,_ = env.step(action)\n",
        "\n",
        "      if truncated:\n",
        "        done=True\n",
        "      total_reward+=reward\n",
        "      state_f = torch.tensor(obs, dtype=torch.float32).to(device)\n",
        "      Buffer.push(state_i,action,reward,state_f,done)\n",
        "\n",
        "      if(len(Buffer)>train_batch_size):\n",
        "        states, actions, rewards, next_states, dones = Buffer.sample(train_batch_size)\n",
        "        states=torch.stack(states).to(device)\n",
        "        actions=torch.tensor(actions).to(device)\n",
        "        rewards=torch.tensor(rewards).to(device)\n",
        "        next_states=torch.stack(next_states).to(device)\n",
        "        dones=torch.Tensor(dones).to(device)\n",
        "\n",
        "        with torch.no_grad():\n",
        "          A=torch.max(target_model(next_states),dim=1,keepdim=False).values\n",
        "          update=rewards+gamma*(1-dones)*(A)\n",
        "\n",
        "        q_values_predicted=model(states)\n",
        "        q_values_predicted=q_values_predicted.squeeze(1)\n",
        "        q_values_to_change=q_values_predicted.gather(1,actions.unsqueeze(1)).squeeze(1)\n",
        "        loss=loss_fn(q_values_to_change,update)\n",
        "        losses.append(loss.item())\n",
        "        optimizer.zero_grad()\n",
        "        loss.backward()\n",
        "        optimizer.step()\n",
        "\n",
        "      if(iteration%sync_batch_freq==0):\n",
        "        target_model.load_state_dict(model.state_dict())\n",
        "        target_model.eval()\n",
        "\n",
        "    if epsilon>0.1:\n",
        "      epsilon*=0.995\n",
        "\n",
        "    rewards_list.append(total_reward)\n",
        "\n",
        "    if episode%50==0:\n",
        "      print(f\"Episode {episode} - Average Reward : {sum(rewards_list[-50:])/50}\")\n",
        "\n",
        "      #To avoid overfitting\n",
        "      if sum(rewards_list[-50:])/50 >=450:\n",
        "        break;\n",
        "\n",
        "  env.close()\n",
        "  return rewards_list,losses"
      ]
    },
    {
      "cell_type": "code",
      "source": [
        "env = gym.make(\"CartPole-v1\")\n",
        "obs_dim = env.observation_space.shape[0]\n",
        "n_actions = env.action_space.n\n",
        "env.close()\n",
        "model=DQN(obs_dim,n_actions).to(device)\n",
        "loss_fn=nn.MSELoss()\n",
        "optimizer=torch.optim.Adam(model.parameters(),lr=0.0001)\n",
        "rewards,losses=train_model(model,loss_fn,optimizer)"
      ],
      "metadata": {
        "colab": {
          "base_uri": "https://localhost:8080/"
        },
        "id": "WVO9hWaZbic6",
        "outputId": "8a939030-ee7b-4597-af7b-de8b814c1ed2"
      },
      "id": "WVO9hWaZbic6",
      "execution_count": 6,
      "outputs": [
        {
          "output_type": "stream",
          "name": "stdout",
          "text": [
            "Episode 0 - Average Reward : 0.38\n",
            "Episode 50 - Average Reward : 24.3\n",
            "Episode 100 - Average Reward : 54.84\n",
            "Episode 150 - Average Reward : 108.36\n",
            "Episode 200 - Average Reward : 202.98\n",
            "Episode 250 - Average Reward : 316.36\n",
            "Episode 300 - Average Reward : 411.58\n",
            "Episode 350 - Average Reward : 479.12\n"
          ]
        }
      ]
    },
    {
      "cell_type": "code",
      "source": [
        "plt.plot(np.convolve(rewards,np.ones((50,))*0.02,mode='valid'))\n",
        "plt.title(\"Reward\")\n",
        "plt.show()\n",
        "plt.plot(np.convolve(losses,np.ones((1000,))*0.001,mode='valid'))\n",
        "plt.title(\"Loss\")\n",
        "plt.show()"
      ],
      "metadata": {
        "colab": {
          "base_uri": "https://localhost:8080/",
          "height": 887
        },
        "id": "_ypMs7uUQ1BH",
        "outputId": "cc695774-29ad-4f4b-8d1b-2dad49811b58"
      },
      "id": "_ypMs7uUQ1BH",
      "execution_count": 7,
      "outputs": [
        {
          "output_type": "display_data",
          "data": {
            "text/plain": [
              "<Figure size 640x480 with 1 Axes>"
            ],
            "image/png": "[encoded data removed]"
          },
          "metadata": {}
        },
        {
          "output_type": "display_data",
          "data": {
            "text/plain": [
              "<Figure size 640x480 with 1 Axes>"
            ],
            "image/png": "[encoded data removed]"
          },
          "metadata": {}
        }
      ]
    },
    {
      "cell_type": "code",
      "execution_count": 8,
      "id": "6493553c",
      "metadata": {
        "id": "6493553c"
      },
      "outputs": [],
      "source": [
        "from os import truncate\n",
        "def evaluate_cartpole_model(model, episodes=10, render=True):\n",
        "    env = gym.make(\"CartPole-v1\", render_mode=\"human\" if render else None)\n",
        "    obs_dim = env.observation_space.shape[0]\n",
        "    n_actions = env.action_space.n\n",
        "\n",
        "    model.eval()\n",
        "\n",
        "    rewards = []\n",
        "\n",
        "    for episode in range(episodes):\n",
        "        obs, _ = env.reset()\n",
        "        total_reward = 0\n",
        "        done = False\n",
        "\n",
        "        while not done:\n",
        "            state = torch.tensor(obs, dtype=torch.float32).unsqueeze(0).to(device)\n",
        "            with torch.no_grad():\n",
        "                q_values = model(state)\n",
        "                action = torch.argmax(q_values, dim=1).item()\n",
        "            obs, reward, done, truncated, _ = env.step(action)\n",
        "            if truncated:\n",
        "              done=True\n",
        "            total_reward += reward\n",
        "            if render:\n",
        "                env.render()\n",
        "        rewards.append(total_reward)\n",
        "        print(f\"Episode {episode + 1}: Reward = {total_reward}\")\n",
        "\n",
        "    env.close()\n",
        "    avg_reward = sum(rewards) / episodes\n",
        "    print(f\"Average reward over {episodes} episodes: {avg_reward}\")"
      ]
    },
    {
      "cell_type": "code",
      "source": [
        "# TODO: Run evaluation for cartpole here\n",
        "evaluate_cartpole_model(model,render=False)"
      ],
      "metadata": {
        "colab": {
          "base_uri": "https://localhost:8080/"
        },
        "id": "ChHt-e0ddlnt",
        "outputId": "16f839ed-79d2-4450-f4fe-70333d5ab5b0"
      },
      "id": "ChHt-e0ddlnt",
      "execution_count": 9,
      "outputs": [
        {
          "output_type": "stream",
          "name": "stdout",
          "text": [
            "Episode 1: Reward = 500.0\n",
            "Episode 2: Reward = 500.0\n",
            "Episode 3: Reward = 500.0\n",
            "Episode 4: Reward = 500.0\n",
            "Episode 5: Reward = 500.0\n",
            "Episode 6: Reward = 500.0\n",
            "Episode 7: Reward = 500.0\n",
            "Episode 8: Reward = 500.0\n",
            "Episode 9: Reward = 500.0\n",
            "Episode 10: Reward = 500.0\n",
            "Average reward over 10 episodes: 500.0\n"
          ]
        }
      ]
    },
    {
      "cell_type": "code",
      "source": [
        "class ChaseEscapeEnv(gym.Env):\n",
        "    metadata = {\"render_modes\": [\"human\"], \"render_fps\": 30}\n",
        "\n",
        "    def __init__(self, render_mode=None):\n",
        "        super().__init__()\n",
        "\n",
        "        self.dt = 0.1\n",
        "        self.max_speed = 0.4\n",
        "        self.agent_radius = 0.05\n",
        "        self.target_radius = 0.05\n",
        "        self.chaser_radius = 0.07\n",
        "        self.chaser_speed = 0.03\n",
        "\n",
        "        self.action_space = gym.spaces.MultiDiscrete([3, 3])  # actions in {0,1,2} map to [-1,0,1]\n",
        "        self.observation_space = gym.spaces.Box(\n",
        "            low=-1,\n",
        "            high=1,\n",
        "            shape=(8,),\n",
        "            dtype=np.float32,\n",
        "        )\n",
        "\n",
        "        self.render_mode = render_mode\n",
        "        self.screen_size = 500\n",
        "        self.np_random = None\n",
        "\n",
        "        if render_mode == \"human\":\n",
        "            pygame.init()\n",
        "            self.screen = pygame.display.set_mode((self.screen_size, self.screen_size))\n",
        "            self.clock = pygame.time.Clock()\n",
        "\n",
        "    def sample_pos(self, far_from=None, min_dist=0.5):\n",
        "        while True:\n",
        "            pos = self.np_random.uniform(low=-0.8, high=0.8, size=(2,))\n",
        "            if far_from is None or np.linalg.norm(pos - far_from) >= min_dist:\n",
        "                return pos\n",
        "\n",
        "    def reset(self, seed=None, options=None):\n",
        "        super().reset(seed=seed)\n",
        "\n",
        "        self.agent_pos = self.sample_pos()\n",
        "        self.agent_vel = np.zeros(2, dtype=np.float32)\n",
        "        self.target_pos = self.sample_pos(far_from=self.agent_pos, min_dist=0.5)\n",
        "        self.chaser_pos = self.sample_pos(far_from=self.agent_pos, min_dist=0.7)\n",
        "\n",
        "        return self._get_obs(), {}\n",
        "\n",
        "    def _get_obs(self):\n",
        "        # TODO: Decide how to pass the state (don't use pixel values)\n",
        "        return (*self.agent_pos,*(self.target_pos-self.agent_pos),*(self.chaser_pos-self.agent_pos),*self.agent_vel)\n",
        "\n",
        "    def _get_info(self):\n",
        "        return {}\n",
        "\n",
        "    def step(self, action):\n",
        "        # TODO: Add reward scheme\n",
        "        # 1) Try to make the agent stay within bounds\n",
        "        # 2) The agent shouldn't idle around\n",
        "        # 3) The agent should go for the reward\n",
        "        # 4) The agent should avoid the chaser\n",
        "\n",
        "        reward=0\n",
        "        accel = (np.array(action) - 1) * 0.1\n",
        "        self.agent_vel += accel\n",
        "        self.agent_vel = np.clip(self.agent_vel, -self.max_speed, self.max_speed)\n",
        "        prev_pos=self.agent_pos\n",
        "        self.agent_pos += self.agent_vel * self.dt\n",
        "        Y=self.agent_pos\n",
        "        self.agent_pos = np.clip(self.agent_pos, -1, 1)\n",
        "\n",
        "        if np.abs(self.agent_pos)[0]>=0.9 or np.abs(self.agent_pos)[1]>=0.9:\n",
        "            reward-=0.001\n",
        "        else :\n",
        "            reward+=0.001\n",
        "\n",
        "        if np.abs(self.agent_pos)[0]>=0.90 and np.abs(self.agent_pos)[1]>=0.90:\n",
        "            reward-=float((np.abs(self.agent_pos)[0]-0.90)*0.1)\n",
        "\n",
        "        direction = self.agent_pos - self.chaser_pos\n",
        "        norm = np.linalg.norm(direction)\n",
        "\n",
        "        if norm > 1e-5:\n",
        "            self.chaser_pos += self.chaser_speed * direction / norm\n",
        "\n",
        "        dist_to_target = np.linalg.norm(self.agent_pos - self.target_pos)\n",
        "        dist_to_chaser = np.linalg.norm(self.agent_pos - self.chaser_pos)\n",
        "        prev_dist_to_target= np.linalg.norm(self.target_pos-prev_pos)\n",
        "        prev_dist_to_chaser = np.linalg.norm(self.chaser_pos-prev_pos)\n",
        "        terminated = False\n",
        "\n",
        "\n",
        "        if dist_to_target<=1:\n",
        "            reward+=float((1-dist_to_target)*10)\n",
        "\n",
        "        if prev_dist_to_chaser>=dist_to_chaser and dist_to_chaser<=0.40:\n",
        "            reward-=0.05\n",
        "\n",
        "        reward+=0.05\n",
        "\n",
        "        if dist_to_target < self.agent_radius + self.target_radius:\n",
        "            reward+=5\n",
        "            self.target_pos = self.sample_pos(far_from=self.agent_pos, min_dist=0.5)\n",
        "\n",
        "        if dist_to_chaser < self.agent_radius + self.chaser_radius:\n",
        "            reward-=1\n",
        "            terminated = True\n",
        "\n",
        "        return self._get_obs(), reward, terminated, False, self._get_info()\n",
        "\n",
        "    def render(self):\n",
        "        if self.render_mode != \"human\":\n",
        "            return\n",
        "\n",
        "        for event in pygame.event.get():\n",
        "            if event.type == pygame.QUIT:\n",
        "                self.close()\n",
        "\n",
        "        self.screen.fill((255, 255, 255))\n",
        "\n",
        "        def to_screen(p):\n",
        "            x = int((p[0] + 1) / 2 * self.screen_size)\n",
        "            y = int((1 - (p[1] + 1) / 2) * self.screen_size)\n",
        "            return x, y\n",
        "\n",
        "        pygame.draw.circle(self.screen, (0, 255, 0), to_screen(self.target_pos), int(self.target_radius * self.screen_size*0.5))\n",
        "        pygame.draw.circle(self.screen, (0, 0, 255), to_screen(self.agent_pos), int(self.agent_radius * self.screen_size*0.5))\n",
        "        pygame.draw.circle(self.screen, (255, 0, 0), to_screen(self.chaser_pos), int(self.chaser_radius * self.screen_size*0.5))\n",
        "\n",
        "        pygame.display.flip()\n",
        "        self.clock.tick(self.metadata[\"render_fps\"])\n",
        "\n",
        "    def close(self):\n",
        "        if self.render_mode == \"human\":\n",
        "            pygame.quit()"
      ],
      "metadata": {
        "id": "GNrKSlxwDMbw"
      },
      "id": "GNrKSlxwDMbw",
      "execution_count": 10,
      "outputs": []
    },
    {
      "cell_type": "code",
      "source": [
        "class DQN_chaseescape(torch.nn.Module):\n",
        "    def __init__(self):\n",
        "        super().__init__()\n",
        "        self.sequential_net=nn.Sequential(\n",
        "                            nn.Linear(8,128),\n",
        "                            nn.ReLU(),\n",
        "                            nn.Linear(128,128),\n",
        "                            nn.ReLU(),\n",
        "                            nn.Linear(128,64),\n",
        "                            nn.ReLU(),\n",
        "                            nn.Linear(64,9),\n",
        "                            )\n",
        "    def forward(self, input):\n",
        "        input=input.view(-1,8)\n",
        "        return self.sequential_net(input)"
      ],
      "metadata": {
        "id": "vHSEy-UgjfA7"
      },
      "id": "vHSEy-UgjfA7",
      "execution_count": 11,
      "outputs": []
    },
    {
      "cell_type": "code",
      "source": [
        "def train_ChaseEscapEnv(model,loss_fn,optimizer,episodes=700,epsilon=1,gamma=0.99,sync_batch_freq=100,train_batch_size=64,replay_buffer_size=10000):\n",
        "\n",
        "  env = ChaseEscapeEnv()\n",
        "  rewards_list=[]\n",
        "  number_of_moves_list=[]\n",
        "  losses=[]\n",
        "  no_of_food_eaten_list=[]\n",
        "\n",
        "  np.random.seed(42)\n",
        "  action_selection_array=np.arange(9)\n",
        "\n",
        "  target_model=DQN_chaseescape().to(device)\n",
        "  target_model.load_state_dict(model.state_dict())\n",
        "  model.train()\n",
        "  target_model.eval()\n",
        "\n",
        "  Buffer=ExperienceBuffer(replay_buffer_size)\n",
        "  iteration=0\n",
        "  for episode in range(episodes):\n",
        "\n",
        "    total_reward=0\n",
        "    done=False\n",
        "    obs,_=env.reset()\n",
        "    moves=0\n",
        "    no_of_food_eaten=0\n",
        "    while not done:\n",
        "      moves+=1\n",
        "      iteration+=1\n",
        "      state_i = torch.tensor(obs, dtype=torch.float32).unsqueeze(0).to(device)\n",
        "\n",
        "      with torch.no_grad():\n",
        "        q_values = model(state_i)\n",
        "\n",
        "      if np.random.rand()<epsilon:\n",
        "        action = np.random.choice(action_selection_array)\n",
        "      else:\n",
        "        action = torch.argmax(q_values).item()\n",
        "\n",
        "      obs,reward,done,truncated,_ = env.step((action%3,(action//3)%3))\n",
        "\n",
        "      if reward >= 11:\n",
        "        no_of_food_eaten+=1\n",
        "      total_reward+=reward\n",
        "      state_f = torch.tensor(obs, dtype=torch.float32).to(device)\n",
        "\n",
        "      Buffer.push(state_i,action,reward,state_f,done)\n",
        "\n",
        "      if(len(Buffer)>train_batch_size):\n",
        "        states, actions, rewards, next_states, dones = Buffer.sample(train_batch_size)\n",
        "        states=torch.stack(states).to(device)\n",
        "        actions=torch.tensor(actions).to(device)\n",
        "        rewards=torch.tensor(rewards).to(device)\n",
        "        next_states=torch.stack(next_states).to(device)\n",
        "        dones=torch.Tensor(dones).to(device)\n",
        "\n",
        "        with torch.no_grad():\n",
        "          A=torch.max(target_model(next_states),dim=1,keepdim=False).values\n",
        "          update=rewards+gamma*(1-dones)*(A)\n",
        "        q_values_predicted=model(states)\n",
        "        q_values_to_change=q_values_predicted.gather(1,actions.unsqueeze(1)).squeeze(1)\n",
        "        loss=loss_fn(q_values_to_change,update)\n",
        "        losses.append(loss.item())\n",
        "        optimizer.zero_grad()\n",
        "        loss.backward()\n",
        "        optimizer.step()\n",
        "      if(iteration%sync_batch_freq==0):\n",
        "        target_model.load_state_dict(model.state_dict())\n",
        "        target_model.eval()\n",
        "      if moves>=500:\n",
        "          break\n",
        "\n",
        "    if epsilon>0.1:\n",
        "      epsilon*=0.995\n",
        "\n",
        "    rewards_list.append(total_reward)\n",
        "    number_of_moves_list.append(moves)\n",
        "    no_of_food_eaten_list.append(no_of_food_eaten)\n",
        "\n",
        "    if(episode%50==0):\n",
        "      print(f\"Episode {episode} - Average Reward : {sum(rewards_list[-50:])/50:.2f} Average Moves : {sum(number_of_moves_list[-50:])/50} Average Food Eaten : {sum(no_of_food_eaten_list[-50:])/50:.2f}\")\n",
        "    if len(no_of_food_eaten_list) > 50 and sum(no_of_food_eaten_list[-50:])/50 > 0.6:\n",
        "        print(f\"Episode {episode} - Average Reward : {sum(rewards_list[-50:])/50:.2f} Average Moves : {sum(number_of_moves_list[-50:])/50} Average Food Eaten : {sum(no_of_food_eaten_list[-50:])/50:.2f}\")\n",
        "        break\n",
        "  env.close()\n",
        "  return rewards_list,losses"
      ],
      "metadata": {
        "id": "uHKt4ghYjihD"
      },
      "id": "uHKt4ghYjihD",
      "execution_count": 12,
      "outputs": []
    },
    {
      "cell_type": "code",
      "source": [
        "model=DQN_chaseescape().to(device)"
      ],
      "metadata": {
        "id": "irCYxw6AjvGa"
      },
      "id": "irCYxw6AjvGa",
      "execution_count": 13,
      "outputs": []
    },
    {
      "cell_type": "code",
      "source": [
        "loss_fn = nn.MSELoss()\n",
        "optimizer=torch.optim.Adam(model.parameters(),lr=0.001)\n",
        "rewards,losses=train_ChaseEscapEnv(model,loss_fn,optimizer)"
      ],
      "metadata": {
        "colab": {
          "base_uri": "https://localhost:8080/"
        },
        "id": "voCKU8hNjxBj",
        "outputId": "aee7a9ae-d15a-484b-fdd9-5a7df335f435"
      },
      "id": "voCKU8hNjxBj",
      "execution_count": 14,
      "outputs": [
        {
          "output_type": "stream",
          "name": "stdout",
          "text": [
            "Episode 0 - Average Reward : 0.77 Average Moves : 1.16 Average Food Eaten : 0.00\n",
            "Episode 50 - Average Reward : 78.50 Average Moves : 46.32 Average Food Eaten : 0.04\n",
            "Episode 100 - Average Reward : 156.17 Average Moves : 49.7 Average Food Eaten : 0.10\n",
            "Episode 150 - Average Reward : 448.25 Average Moves : 198.72 Average Food Eaten : 0.32\n",
            "Episode 200 - Average Reward : 490.46 Average Moves : 274.8 Average Food Eaten : 0.30\n",
            "Episode 250 - Average Reward : 716.87 Average Moves : 351.58 Average Food Eaten : 0.56\n",
            "Episode 290 - Average Reward : 811.23 Average Moves : 322.46 Average Food Eaten : 0.66\n"
          ]
        }
      ]
    },
    {
      "cell_type": "code",
      "source": [
        "def evaluate_modelChaseEscapeEnv(model, episodes=10, render=True,moves_limit=500):\n",
        "    env = ChaseEscapeEnv(render_mode=\"human\")\n",
        "    target_reached_list=[]\n",
        "    moves_list=[]\n",
        "    model.eval()\n",
        "    for episode in range(episodes):\n",
        "        obs, _ = env.reset()\n",
        "        total_reward = 0\n",
        "        done = False\n",
        "        moves=0\n",
        "        target_reached=0\n",
        "        while not done:\n",
        "            moves+=1\n",
        "            obs+=np.random.rand(len(obs))*0.1 #To Avoid the Agent getting Stuck in Loops\n",
        "            state = torch.tensor(obs, dtype=torch.float32).unsqueeze(0).to(device)\n",
        "            with torch.no_grad():\n",
        "                q_values = model(state)\n",
        "                action = torch.argmax(q_values, dim=1).item()\n",
        "            obs, reward, done, _, _ = env.step((action%3,(action//3)%3))\n",
        "            if reward>=11:\n",
        "              target_reached+=1\n",
        "            if render:\n",
        "                env.render()\n",
        "            if moves>moves_limit:\n",
        "              break\n",
        "        rewards.append(total_reward)\n",
        "        moves_list.append(moves)\n",
        "        target_reached_list.append(target_reached)\n",
        "        print(f\"Episode {episode + 1}: No Of Moves = {moves} Target Chased = {target_reached}\")\n",
        "    env.close()\n",
        "    avg_moves = sum(moves_list)/ episodes\n",
        "    avg_target = sum(target_reached_list)/episodes\n",
        "    print(f\"Average Number of Moves over {episodes} episodes: {avg_moves:.2f}\")\n",
        "    print(f\"Average Number of times Target Chased over {episodes} episodes: {avg_target:.2f}\")\n",
        "\n"
      ],
      "metadata": {
        "id": "1A1gX8v4j1XJ"
      },
      "id": "1A1gX8v4j1XJ",
      "execution_count": 15,
      "outputs": []
    },
    {
      "cell_type": "code",
      "source": [
        "evaluate_modelChaseEscapeEnv(model,episodes=50,moves_limit=1500,render=False)"
      ],
      "metadata": {
        "colab": {
          "base_uri": "https://localhost:8080/"
        },
        "id": "XMjPJtWRl4JR",
        "outputId": "21e6ccf7-715b-4598-b0db-5afb5811fd49"
      },
      "id": "XMjPJtWRl4JR",
      "execution_count": 16,
      "outputs": [
        {
          "output_type": "stream",
          "name": "stdout",
          "text": [
            "Episode 1: No Of Moves = 28 Target Chased = 0\n",
            "Episode 2: No Of Moves = 46 Target Chased = 0\n",
            "Episode 3: No Of Moves = 54 Target Chased = 0\n",
            "Episode 4: No Of Moves = 12 Target Chased = 0\n",
            "Episode 5: No Of Moves = 1501 Target Chased = 1\n",
            "Episode 6: No Of Moves = 62 Target Chased = 0\n",
            "Episode 7: No Of Moves = 1113 Target Chased = 1\n",
            "Episode 8: No Of Moves = 1501 Target Chased = 0\n",
            "Episode 9: No Of Moves = 16 Target Chased = 0\n",
            "Episode 10: No Of Moves = 477 Target Chased = 3\n",
            "Episode 11: No Of Moves = 63 Target Chased = 0\n",
            "Episode 12: No Of Moves = 1501 Target Chased = 0\n",
            "Episode 13: No Of Moves = 1501 Target Chased = 0\n",
            "Episode 14: No Of Moves = 236 Target Chased = 1\n",
            "Episode 15: No Of Moves = 1501 Target Chased = 4\n",
            "Episode 16: No Of Moves = 353 Target Chased = 5\n",
            "Episode 17: No Of Moves = 199 Target Chased = 1\n",
            "Episode 18: No Of Moves = 1501 Target Chased = 0\n",
            "Episode 19: No Of Moves = 1501 Target Chased = 1\n",
            "Episode 20: No Of Moves = 279 Target Chased = 1\n",
            "Episode 21: No Of Moves = 1501 Target Chased = 0\n",
            "Episode 22: No Of Moves = 1501 Target Chased = 2\n",
            "Episode 23: No Of Moves = 192 Target Chased = 1\n",
            "Episode 24: No Of Moves = 1501 Target Chased = 1\n",
            "Episode 25: No Of Moves = 1501 Target Chased = 0\n",
            "Episode 26: No Of Moves = 61 Target Chased = 0\n",
            "Episode 27: No Of Moves = 134 Target Chased = 2\n",
            "Episode 28: No Of Moves = 1501 Target Chased = 2\n",
            "Episode 29: No Of Moves = 1501 Target Chased = 0\n",
            "Episode 30: No Of Moves = 48 Target Chased = 0\n",
            "Episode 31: No Of Moves = 1501 Target Chased = 1\n",
            "Episode 32: No Of Moves = 178 Target Chased = 1\n",
            "Episode 33: No Of Moves = 1501 Target Chased = 5\n",
            "Episode 34: No Of Moves = 1501 Target Chased = 0\n",
            "Episode 35: No Of Moves = 1501 Target Chased = 3\n",
            "Episode 36: No Of Moves = 1501 Target Chased = 0\n",
            "Episode 37: No Of Moves = 210 Target Chased = 2\n",
            "Episode 38: No Of Moves = 1501 Target Chased = 6\n",
            "Episode 39: No Of Moves = 21 Target Chased = 0\n",
            "Episode 40: No Of Moves = 1501 Target Chased = 7\n",
            "Episode 41: No Of Moves = 1501 Target Chased = 0\n",
            "Episode 42: No Of Moves = 1501 Target Chased = 1\n",
            "Episode 43: No Of Moves = 117 Target Chased = 0\n",
            "Episode 44: No Of Moves = 1501 Target Chased = 2\n",
            "Episode 45: No Of Moves = 16 Target Chased = 0\n",
            "Episode 46: No Of Moves = 760 Target Chased = 4\n",
            "Episode 47: No Of Moves = 1501 Target Chased = 3\n",
            "Episode 48: No Of Moves = 20 Target Chased = 0\n",
            "Episode 49: No Of Moves = 298 Target Chased = 1\n",
            "Episode 50: No Of Moves = 1501 Target Chased = 0\n",
            "Average Number of Moves over 50 episodes: 850.36\n",
            "Average Number of times Target Chased over 50 episodes: 1.24\n"
          ]
        }
      ]
    },
    {
      "cell_type": "code",
      "source": [
        "#Snake Game"
      ],
      "metadata": {
        "id": "MupxkJhXmAhF"
      },
      "id": "MupxkJhXmAhF",
      "execution_count": 16,
      "outputs": []
    }
  ],
  "metadata": {
    "kernelspec": {
      "display_name": "Python 3",
      "name": "python3"
    },
    "language_info": {
      "codemirror_mode": {
        "name": "ipython",
        "version": 3
      },
      "file_extension": ".py",
      "mimetype": "text/x-python",
      "name": "python",
      "nbconvert_exporter": "python",
      "pygments_lexer": "ipython3",
      "version": "3.10.11"
    },
    "colab": {
      "provenance": [],
      "gpuType": "T4"
    },
    "accelerator": "GPU"
  },
  "nbformat": 4,
  "nbformat_minor": 5
}