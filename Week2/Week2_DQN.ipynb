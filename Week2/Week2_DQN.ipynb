{
  "cells": [
    {
      "cell_type": "code",
      "execution_count": 1,
      "id": "ca209422",
      "metadata": {
        "id": "ca209422"
      },
      "outputs": [],
      "source": [
        "# Imports\n",
        "import torch\n",
        "import torch.nn as nn\n",
        "import numpy as np\n",
        "import gymnasium as gym\n",
        "from collections import deque\n",
        "import pygame\n",
        "import random\n",
        "import matplotlib.pyplot as plt"
      ]
    },
    {
      "cell_type": "code",
      "execution_count": 2,
      "id": "UMn5CBy6T0XU",
      "metadata": {
        "colab": {
          "base_uri": "https://localhost:8080/"
        },
        "id": "UMn5CBy6T0XU",
        "outputId": "1304bca1-b454-46e2-f913-59d96bb221fc"
      },
      "outputs": [
        {
          "output_type": "stream",
          "name": "stdout",
          "text": [
            "cuda\n"
          ]
        }
      ],
      "source": [
        "device = torch.device(\"cuda\" if torch.cuda.is_available() else \"cpu\")\n",
        "print(device)"
      ]
    },
    {
      "cell_type": "code",
      "execution_count": 3,
      "id": "eddc73b4",
      "metadata": {
        "id": "eddc73b4"
      },
      "outputs": [],
      "source": [
        "# DQN model which takes in the state as an input and outputs predicted q values for every possible action\n",
        "class DQN(torch.nn.Module):\n",
        "    def __init__(self, state_space, action_space):\n",
        "        super().__init__()\n",
        "        # Add your architecture parameters here\n",
        "        # You can use nn.Functional\n",
        "        # Remember that the input is of size batch_size x state_space\n",
        "        # and the output is of size batch_size x action_space (ulta ho sakta hai dekh lo)\n",
        "        # TODO: Add code here\n",
        "        self.state_space=state_space\n",
        "        self.action_space=action_space\n",
        "        self.sequential_net=nn.Sequential(nn.Linear(self.state_space,128),\n",
        "                             nn.ReLU(),\n",
        "                             nn.Linear(128,128),\n",
        "                             nn.ReLU(),\n",
        "                             nn.Linear(128,self.action_space))\n",
        "    def forward(self, input):\n",
        "        # TODO: Complete based on your implementation\n",
        "        output=self.sequential_net(input)\n",
        "        return output\n"
      ]
    },
    {
      "cell_type": "code",
      "execution_count": 4,
      "id": "37adca73",
      "metadata": {
        "id": "37adca73"
      },
      "outputs": [],
      "source": [
        "# While training neural networks, we split the data into batches.\n",
        "# To improve the training, we need to remove the \"correlation\" between game states\n",
        "# The buffer starts storing states and once it reaches maximum capacity, it replaces\n",
        "# states at random which reduces the correlation.\n",
        "class ExperienceBuffer:\n",
        "    def __init__(self, capacity):\n",
        "        self.buffer = deque(maxlen=capacity)\n",
        "\n",
        "    def push(self, state, action, reward, next_state, done):\n",
        "        self.buffer.append((state, action, reward, next_state, done))\n",
        "\n",
        "    def sample(self, batch_size):\n",
        "        batch = random.sample(self.buffer, batch_size)\n",
        "        states, actions, rewards, next_states, dones = zip(*batch)\n",
        "        return states, actions, rewards, next_states, dones\n",
        "\n",
        "    def __len__(self):\n",
        "        return len(self.buffer)\n"
      ]
    },
    {
      "cell_type": "code",
      "execution_count": 5,
      "id": "7fe4d26a",
      "metadata": {
        "id": "7fe4d26a"
      },
      "outputs": [],
      "source": [
        "# TODO: Implement training logic for CartPole environment here\n",
        "# Remember to use the ExperienceBuffer and a target network\n",
        "# Details can be found in the book sent in the group\n",
        "def train_model(model,loss_fn,optimizer,episodes=600,epsilon=1,gamma=0.99,sync_batch_freq=100,train_batch_size=64,replay_buffer_size=10000):\n",
        "\n",
        "  env = gym.make(\"CartPole-v1\")\n",
        "  rewards_list=[]\n",
        "  losses=[]\n",
        "  obs_dim = env.observation_space.shape[0]\n",
        "  n_actions = env.action_space.n\n",
        "\n",
        "  np.random.seed(42)\n",
        "  action_selection_array=np.arange(n_actions)\n",
        "\n",
        "  target_model=DQN(obs_dim,n_actions).to(device)\n",
        "  target_model.load_state_dict(model.state_dict())\n",
        "  model.train()\n",
        "  target_model.eval()\n",
        "\n",
        "  Buffer=ExperienceBuffer(replay_buffer_size)\n",
        "  iteration=0\n",
        "  for episode in range(episodes):\n",
        "\n",
        "    total_reward=0\n",
        "    done=False\n",
        "    obs,_=env.reset()\n",
        "    mov=0\n",
        "\n",
        "    while not done:\n",
        "\n",
        "      iteration+=1\n",
        "      mov+=1\n",
        "      state_i = torch.tensor(obs, dtype=torch.float32).unsqueeze(0).to(device)\n",
        "\n",
        "      with torch.no_grad():\n",
        "        q_values = model(state_i)\n",
        "\n",
        "      if np.random.rand()<epsilon:\n",
        "        action = np.random.choice(action_selection_array)\n",
        "      else:\n",
        "        action = torch.argmax(q_values).item()\n",
        "\n",
        "      obs,reward,done,truncated,_ = env.step(action)\n",
        "\n",
        "      if truncated:\n",
        "        done=True\n",
        "      total_reward+=reward\n",
        "      state_f = torch.tensor(obs, dtype=torch.float32).to(device)\n",
        "      Buffer.push(state_i,action,reward,state_f,done)\n",
        "\n",
        "      if(len(Buffer)>train_batch_size):\n",
        "        states, actions, rewards, next_states, dones = Buffer.sample(train_batch_size)\n",
        "        states=torch.stack(states).to(device)\n",
        "        actions=torch.tensor(actions).to(device)\n",
        "        rewards=torch.tensor(rewards).to(device)\n",
        "        next_states=torch.stack(next_states).to(device)\n",
        "        dones=torch.Tensor(dones).to(device)\n",
        "\n",
        "        with torch.no_grad():\n",
        "          A=torch.max(target_model(next_states),dim=1,keepdim=False).values\n",
        "          update=rewards+gamma*(1-dones)*(A)\n",
        "\n",
        "        q_values_predicted=model(states)\n",
        "        q_values_predicted=q_values_predicted.squeeze(1)\n",
        "        q_values_to_change=q_values_predicted.gather(1,actions.unsqueeze(1)).squeeze(1)\n",
        "        loss=loss_fn(q_values_to_change,update)\n",
        "        losses.append(loss.item())\n",
        "        optimizer.zero_grad()\n",
        "        loss.backward()\n",
        "        optimizer.step()\n",
        "\n",
        "      if(iteration%sync_batch_freq==0):\n",
        "        target_model.load_state_dict(model.state_dict())\n",
        "        target_model.eval()\n",
        "\n",
        "    if epsilon>0.1:\n",
        "      epsilon*=0.995\n",
        "\n",
        "    rewards_list.append(total_reward)\n",
        "\n",
        "    if episode%50==0:\n",
        "      print(f\"Episode {episode} - Average Reward : {sum(rewards_list[-50:])/50}\")\n",
        "\n",
        "      #To avoid overfitting\n",
        "      if sum(rewards_list[-50:])/50 >=450:\n",
        "        break;\n",
        "\n",
        "  env.close()\n",
        "  return rewards_list,losses"
      ]
    },
    {
      "cell_type": "code",
      "execution_count": 6,
      "id": "WVO9hWaZbic6",
      "metadata": {
        "colab": {
          "base_uri": "https://localhost:8080/"
        },
        "id": "WVO9hWaZbic6",
        "outputId": "c9e67c47-c6aa-430a-b1d1-5cd80c29a5d4"
      },
      "outputs": [
        {
          "output_type": "stream",
          "name": "stdout",
          "text": [
            "Episode 0 - Average Reward : 0.5\n",
            "Episode 50 - Average Reward : 22.9\n",
            "Episode 100 - Average Reward : 36.14\n",
            "Episode 150 - Average Reward : 107.88\n",
            "Episode 200 - Average Reward : 227.68\n",
            "Episode 250 - Average Reward : 319.4\n",
            "Episode 300 - Average Reward : 338.5\n",
            "Episode 350 - Average Reward : 409.68\n",
            "Episode 400 - Average Reward : 492.7\n"
          ]
        }
      ],
      "source": [
        "env = gym.make(\"CartPole-v1\")\n",
        "obs_dim = env.observation_space.shape[0]\n",
        "n_actions = env.action_space.n\n",
        "env.close()\n",
        "model=DQN(obs_dim,n_actions).to(device)\n",
        "loss_fn=nn.MSELoss()\n",
        "optimizer=torch.optim.Adam(model.parameters(),lr=0.0001)\n",
        "rewards,losses=train_model(model,loss_fn,optimizer)"
      ]
    },
    {
      "cell_type": "code",
      "execution_count": 7,
      "id": "_ypMs7uUQ1BH",
      "metadata": {
        "colab": {
          "base_uri": "https://localhost:8080/",
          "height": 887
        },
        "id": "_ypMs7uUQ1BH",
        "outputId": "0a08bd2a-462f-4908-b4d2-dd2961cce8ee"
      },
      "outputs": [
        {
          "output_type": "display_data",
          "data": {
            "text/plain": [
              "<Figure size 640x480 with 1 Axes>"
            ],
            "image/png": "[encoded data removed]"
          },
          "metadata": {}
        },
        {
          "output_type": "display_data",
          "data": {
            "text/plain": [
              "<Figure size 640x480 with 1 Axes>"
            ],
            "image/png": "[encoded data removed]"
          },
          "metadata": {}
        }
      ],
      "source": [
        "plt.plot(np.convolve(rewards,np.ones((50,))*0.02,mode='valid'))\n",
        "plt.title(\"Reward\")\n",
        "plt.show()\n",
        "plt.plot(np.convolve(losses,np.ones((1000,))*0.001,mode='valid'))\n",
        "plt.title(\"Loss\")\n",
        "plt.show()"
      ]
    },
    {
      "cell_type": "code",
      "execution_count": 8,
      "id": "6493553c",
      "metadata": {
        "id": "6493553c"
      },
      "outputs": [],
      "source": [
        "from os import truncate\n",
        "def evaluate_cartpole_model(model, episodes=10, render=True):\n",
        "    env = gym.make(\"CartPole-v1\", render_mode=\"human\" if render else None)\n",
        "    obs_dim = env.observation_space.shape[0]\n",
        "    n_actions = env.action_space.n\n",
        "\n",
        "    model.eval()\n",
        "\n",
        "    rewards = []\n",
        "\n",
        "    for episode in range(episodes):\n",
        "        obs, _ = env.reset()\n",
        "        total_reward = 0\n",
        "        done = False\n",
        "\n",
        "        while not done:\n",
        "            state = torch.tensor(obs, dtype=torch.float32).unsqueeze(0).to(device)\n",
        "            with torch.no_grad():\n",
        "                q_values = model(state)\n",
        "                action = torch.argmax(q_values, dim=1).item()\n",
        "            obs, reward, done, truncated, _ = env.step(action)\n",
        "            if truncated:\n",
        "              done=True\n",
        "            total_reward += reward\n",
        "            if render:\n",
        "                env.render()\n",
        "        rewards.append(total_reward)\n",
        "        print(f\"Episode {episode + 1}: Reward = {total_reward}\")\n",
        "\n",
        "    env.close()\n",
        "    avg_reward = sum(rewards) / episodes\n",
        "    print(f\"Average reward over {episodes} episodes: {avg_reward}\")"
      ]
    },
    {
      "cell_type": "code",
      "execution_count": 9,
      "id": "ChHt-e0ddlnt",
      "metadata": {
        "colab": {
          "base_uri": "https://localhost:8080/"
        },
        "id": "ChHt-e0ddlnt",
        "outputId": "daccfca3-928c-4ec4-f8cf-8605de552c6a"
      },
      "outputs": [
        {
          "output_type": "stream",
          "name": "stdout",
          "text": [
            "Episode 1: Reward = 500.0\n",
            "Episode 2: Reward = 500.0\n",
            "Episode 3: Reward = 500.0\n",
            "Episode 4: Reward = 500.0\n",
            "Episode 5: Reward = 500.0\n",
            "Episode 6: Reward = 500.0\n",
            "Episode 7: Reward = 500.0\n",
            "Episode 8: Reward = 500.0\n",
            "Episode 9: Reward = 500.0\n",
            "Episode 10: Reward = 500.0\n",
            "Average reward over 10 episodes: 500.0\n"
          ]
        }
      ],
      "source": [
        "# TODO: Run evaluation for cartpole here\n",
        "evaluate_cartpole_model(model,render=False)"
      ]
    },
    {
      "cell_type": "code",
      "source": [
        "class ChaseEscapeEnv(gym.Env):\n",
        "    metadata = {\"render_modes\": [\"human\"], \"render_fps\": 30}\n",
        "\n",
        "    def __init__(self, render_mode=None):\n",
        "        super().__init__()\n",
        "\n",
        "        self.dt = 0.1\n",
        "        self.max_speed = 0.4\n",
        "        self.agent_radius = 0.05\n",
        "        self.target_radius = 0.05\n",
        "        self.chaser_radius = 0.07\n",
        "        self.chaser_speed = 0.03\n",
        "\n",
        "        self.action_space = gym.spaces.MultiDiscrete([3, 3])  # actions in {0,1,2} map to [-1,0,1]\n",
        "        self.observation_space = gym.spaces.Box(\n",
        "            low=-1,\n",
        "            high=1,\n",
        "            shape=(8,),\n",
        "            dtype=np.float32,\n",
        "        )\n",
        "\n",
        "        self.render_mode = render_mode\n",
        "        self.screen_size = 500\n",
        "        self.np_random = None\n",
        "\n",
        "        if render_mode == \"human\":\n",
        "            pygame.init()\n",
        "            self.screen = pygame.display.set_mode((self.screen_size, self.screen_size))\n",
        "            self.clock = pygame.time.Clock()\n",
        "\n",
        "    def sample_pos(self, far_from=None, min_dist=0.5):\n",
        "        while True:\n",
        "            pos = self.np_random.uniform(low=-0.8, high=0.8, size=(2,))\n",
        "            if far_from is None or np.linalg.norm(pos - far_from) >= min_dist:\n",
        "                return pos\n",
        "\n",
        "    def reset(self, seed=None, options=None):\n",
        "        super().reset(seed=seed)\n",
        "\n",
        "        self.agent_pos = self.sample_pos()\n",
        "        self.agent_vel = np.zeros(2, dtype=np.float32)\n",
        "        self.target_pos = self.sample_pos(far_from=self.agent_pos, min_dist=0.5)\n",
        "        self.chaser_pos = self.sample_pos(far_from=self.agent_pos, min_dist=0.7)\n",
        "\n",
        "        return self._get_obs(), {}\n",
        "\n",
        "    def _get_obs(self):\n",
        "        # TODO: Decide how to pass the state (don't use pixel values)\n",
        "        return (*self.agent_pos,*(self.target_pos-self.agent_pos),*(self.chaser_pos-self.agent_pos),*self.agent_vel)\n",
        "\n",
        "    def _get_info(self):\n",
        "        return {}\n",
        "\n",
        "    def step(self, action):\n",
        "        # TODO: Add reward scheme\n",
        "        # 1) Try to make the agent stay within bounds\n",
        "        # 2) The agent shouldn't idle around\n",
        "        # 3) The agent should go for the reward\n",
        "        # 4) The agent should avoid the chaser\n",
        "        food_eaten=False\n",
        "        reward=0\n",
        "        accel = (np.array(action) - 1) * 0.1\n",
        "        self.agent_vel += accel\n",
        "        self.agent_vel = np.clip(self.agent_vel, -self.max_speed, self.max_speed)\n",
        "        prev_pos=self.agent_pos\n",
        "        self.agent_pos += self.agent_vel * self.dt\n",
        "        Y=self.agent_pos\n",
        "        self.agent_pos = np.clip(self.agent_pos, -1, 1)\n",
        "\n",
        "        # if np.abs(self.agent_pos)[0]>=0.9 or np.abs(self.agent_pos)[1]>=0.9:\n",
        "        #     reward-=0.001\n",
        "        # else :\n",
        "        #     reward+=0.001\n",
        "\n",
        "        if np.abs(self.agent_pos)[0]>=0.90 and np.abs(self.agent_pos)[1]>=0.90:\n",
        "            reward-=float((np.abs(self.agent_pos)[0]-0.90)*0.1)\n",
        "\n",
        "        direction = self.agent_pos - self.chaser_pos\n",
        "        norm = np.linalg.norm(direction)\n",
        "\n",
        "        if norm > 1e-5:\n",
        "            self.chaser_pos += self.chaser_speed * direction / norm\n",
        "\n",
        "        dist_to_target = np.linalg.norm(self.agent_pos - self.target_pos)\n",
        "        dist_to_chaser = np.linalg.norm(self.agent_pos - self.chaser_pos)\n",
        "        prev_dist_to_target= np.linalg.norm(self.target_pos-prev_pos)\n",
        "        prev_dist_to_chaser = np.linalg.norm(self.chaser_pos-prev_pos)\n",
        "        terminated = False\n",
        "\n",
        "\n",
        "        if dist_to_target<=0.75:\n",
        "            reward+=float((1-dist_to_target)*0.05)\n",
        "\n",
        "        if prev_dist_to_chaser>=dist_to_chaser and dist_to_chaser<=0.20:\n",
        "            reward-=0.05\n",
        "\n",
        "        reward-=0.002\n",
        "\n",
        "        if dist_to_target < self.agent_radius + self.target_radius:\n",
        "            reward+=20\n",
        "            self.target_pos = self.sample_pos(far_from=self.agent_pos, min_dist=0.5)\n",
        "            food_eaten=True\n",
        "\n",
        "        if dist_to_chaser < self.agent_radius + self.chaser_radius:\n",
        "            reward-=5\n",
        "            # reward-=2\n",
        "            terminated = True\n",
        "\n",
        "        return self._get_obs(), reward, terminated, food_eaten ,False, self._get_info()\n",
        "\n",
        "    def render(self):\n",
        "        if self.render_mode != \"human\":\n",
        "            return\n",
        "\n",
        "        for event in pygame.event.get():\n",
        "            if event.type == pygame.QUIT:\n",
        "                self.close()\n",
        "\n",
        "        self.screen.fill((255, 255, 255))\n",
        "\n",
        "        def to_screen(p):\n",
        "            x = int((p[0] + 1) / 2 * self.screen_size)\n",
        "            y = int((1 - (p[1] + 1) / 2) * self.screen_size)\n",
        "            return x, y\n",
        "\n",
        "        pygame.draw.circle(self.screen, (0, 255, 0), to_screen(self.target_pos), int(self.target_radius * self.screen_size*0.5))\n",
        "        pygame.draw.circle(self.screen, (0, 0, 255), to_screen(self.agent_pos), int(self.agent_radius * self.screen_size*0.5))\n",
        "        pygame.draw.circle(self.screen, (255, 0, 0), to_screen(self.chaser_pos), int(self.chaser_radius * self.screen_size*0.5))\n",
        "\n",
        "        pygame.display.flip()\n",
        "        self.clock.tick(self.metadata[\"render_fps\"])\n",
        "\n",
        "    def close(self):\n",
        "        if self.render_mode == \"human\":\n",
        "            pygame.quit()"
      ],
      "metadata": {
        "id": "6YWt3JdEbEC_"
      },
      "id": "6YWt3JdEbEC_",
      "execution_count": 10,
      "outputs": []
    },
    {
      "cell_type": "code",
      "execution_count": 18,
      "id": "GNrKSlxwDMbw",
      "metadata": {
        "id": "GNrKSlxwDMbw"
      },
      "outputs": [],
      "source": [
        "def train_ChaseEscapEnv(model,target_model,loss_fn,optimizer,episodes=1000,epsilon=1,gamma=0.95,sync_batch_freq=100,train_batch_size=128,replay_buffer_size=50000):\n",
        "\n",
        "  env = ChaseEscapeEnv()\n",
        "  global rewards_list,number_of_moves_list,no_of_food_eaten_list\n",
        "  rewards_list=[]\n",
        "  number_of_moves_list=[]\n",
        "  losses=[]\n",
        "  no_of_food_eaten_list=[]\n",
        "\n",
        "  np.random.seed(42)\n",
        "  action_selection_array=np.arange(9)\n",
        "\n",
        "  # target_model=DQN_chaseescape_1().to(device)\n",
        "  target_model.load_state_dict(model.state_dict())\n",
        "  model.train()\n",
        "  target_model.eval()\n",
        "\n",
        "  Buffer=ExperienceBuffer(replay_buffer_size)\n",
        "  iteration=0\n",
        "  for episode in range(episodes):\n",
        "\n",
        "    total_reward=0\n",
        "    done=False\n",
        "    obs,_=env.reset()\n",
        "    moves=0\n",
        "    no_of_food_eaten=0\n",
        "    while not done:\n",
        "      moves+=1\n",
        "      iteration+=1\n",
        "      state_i = torch.tensor(obs, dtype=torch.float32).unsqueeze(0).to(device)\n",
        "\n",
        "      with torch.no_grad():\n",
        "        q_values = model(state_i)\n",
        "\n",
        "      if np.random.rand()<epsilon:\n",
        "        action = np.random.choice(action_selection_array)\n",
        "      else:\n",
        "        action = torch.argmax(q_values).item()\n",
        "\n",
        "      obs,reward,done,food_eaten_check,truncated,_ = env.step((action%3,(action//3)%3))\n",
        "\n",
        "      if food_eaten_check:\n",
        "        no_of_food_eaten+=1\n",
        "      total_reward+=reward\n",
        "      state_f = torch.tensor(obs, dtype=torch.float32).to(device)\n",
        "\n",
        "      Buffer.push(state_i,action,reward,state_f,done)\n",
        "\n",
        "      if(len(Buffer)>train_batch_size):\n",
        "        states, actions, rewards, next_states, dones = Buffer.sample(train_batch_size)\n",
        "        states=torch.stack(states).to(device)\n",
        "        actions=torch.tensor(actions).to(device)\n",
        "        rewards=torch.tensor(rewards).to(device)\n",
        "        next_states=torch.stack(next_states).to(device)\n",
        "        dones=torch.Tensor(dones).to(device)\n",
        "\n",
        "        with torch.no_grad():\n",
        "          A=torch.max(target_model(next_states),dim=1,keepdim=False).values\n",
        "          update=rewards+gamma*(1-dones)*(A)\n",
        "        q_values_predicted=model(states)\n",
        "        q_values_to_change=q_values_predicted.gather(1,actions.unsqueeze(1)).squeeze(1)\n",
        "        loss=loss_fn(q_values_to_change,update)\n",
        "        losses.append(loss.item())\n",
        "        optimizer.zero_grad()\n",
        "        loss.backward()\n",
        "        optimizer.step()\n",
        "      if(iteration%sync_batch_freq==0):\n",
        "        target_model.load_state_dict(model.state_dict())\n",
        "        target_model.eval()\n",
        "\n",
        "      if no_of_food_eaten==4:\n",
        "          break\n",
        "\n",
        "    if epsilon>0.1:\n",
        "      epsilon*=0.99\n",
        "\n",
        "    rewards_list.append(total_reward)\n",
        "    number_of_moves_list.append(moves)\n",
        "    no_of_food_eaten_list.append(no_of_food_eaten)\n",
        "\n",
        "    if(episode >= 50 and episode%10==0):\n",
        "      print(f\"Episode {episode} - Average Reward : {sum(rewards_list[-50:])/50:.2f} Average Moves : {sum(number_of_moves_list[-50:])/50} Average Food Eaten : {sum(no_of_food_eaten_list[-50:])/50:.2f}\")\n",
        "    # if len(no_of_food_eaten_list) > 50 and sum(no_of_food_eaten_list[-50:])/50 >= 0.6:\n",
        "    #     print(f\"Episode {episode} - Average Reward : {sum(rewards_list[-50:])/50:.2f} Average Moves : {sum(number_of_moves_list[-50:])/50} Average Food Eaten : {sum(no_of_food_eaten_list[-50:])/50:.2f}\")\n",
        "    #     break\n",
        "    if sum(no_of_food_eaten_list[-30:])/30>=3.3:\n",
        "        break\n",
        "  env.close()\n",
        "\n"
      ]
    },
    {
      "cell_type": "code",
      "execution_count": 19,
      "id": "vHSEy-UgjfA7",
      "metadata": {
        "id": "vHSEy-UgjfA7",
        "colab": {
          "base_uri": "https://localhost:8080/"
        },
        "outputId": "bb1e4749-a65f-4a51-a10d-9f5d20e71919"
      },
      "outputs": [
        {
          "output_type": "stream",
          "name": "stdout",
          "text": [
            "Episode 50 - Average Reward : -3.98 Average Moves : 49.08 Average Food Eaten : 0.06\n",
            "Episode 60 - Average Reward : -4.03 Average Moves : 50.4 Average Food Eaten : 0.06\n",
            "Episode 70 - Average Reward : -4.41 Average Moves : 52.56 Average Food Eaten : 0.04\n",
            "Episode 80 - Average Reward : -4.43 Average Moves : 56.32 Average Food Eaten : 0.04\n",
            "Episode 90 - Average Reward : -4.44 Average Moves : 58.62 Average Food Eaten : 0.04\n",
            "Episode 100 - Average Reward : -4.48 Average Moves : 60.52 Average Food Eaten : 0.04\n",
            "Episode 110 - Average Reward : -4.81 Average Moves : 61.68 Average Food Eaten : 0.02\n",
            "Episode 120 - Average Reward : -4.77 Average Moves : 64.26 Average Food Eaten : 0.02\n",
            "Episode 130 - Average Reward : -4.78 Average Moves : 68.58 Average Food Eaten : 0.02\n",
            "Episode 140 - Average Reward : -4.68 Average Moves : 69.16 Average Food Eaten : 0.02\n",
            "Episode 150 - Average Reward : -4.13 Average Moves : 69.66 Average Food Eaten : 0.04\n",
            "Episode 160 - Average Reward : -4.19 Average Moves : 69.22 Average Food Eaten : 0.04\n",
            "Episode 170 - Average Reward : -4.25 Average Moves : 65.52 Average Food Eaten : 0.04\n",
            "Episode 180 - Average Reward : -4.63 Average Moves : 70.08 Average Food Eaten : 0.02\n",
            "Episode 190 - Average Reward : -2.61 Average Moves : 88.4 Average Food Eaten : 0.12\n",
            "Episode 200 - Average Reward : 2.14 Average Moves : 187.42 Average Food Eaten : 0.32\n",
            "Episode 210 - Average Reward : 7.51 Average Moves : 229.58 Average Food Eaten : 0.56\n",
            "Episode 220 - Average Reward : 8.45 Average Moves : 235.52 Average Food Eaten : 0.60\n",
            "Episode 230 - Average Reward : 15.41 Average Moves : 256.24 Average Food Eaten : 0.92\n",
            "Episode 240 - Average Reward : 19.40 Average Moves : 268.74 Average Food Eaten : 1.10\n",
            "Episode 250 - Average Reward : 15.96 Average Moves : 182.3 Average Food Eaten : 0.96\n",
            "Episode 260 - Average Reward : 14.55 Average Moves : 167.44 Average Food Eaten : 0.90\n",
            "Episode 270 - Average Reward : 19.72 Average Moves : 177.04 Average Food Eaten : 1.14\n",
            "Episode 280 - Average Reward : 19.37 Average Moves : 167.88 Average Food Eaten : 1.12\n",
            "Episode 290 - Average Reward : 21.55 Average Moves : 167.9 Average Food Eaten : 1.22\n",
            "Episode 300 - Average Reward : 29.53 Average Moves : 172.02 Average Food Eaten : 1.60\n",
            "Episode 310 - Average Reward : 34.48 Average Moves : 154.88 Average Food Eaten : 1.84\n",
            "Episode 320 - Average Reward : 37.03 Average Moves : 154.82 Average Food Eaten : 1.96\n",
            "Episode 330 - Average Reward : 40.77 Average Moves : 147.56 Average Food Eaten : 2.14\n",
            "Episode 340 - Average Reward : 42.06 Average Moves : 133.6 Average Food Eaten : 2.20\n",
            "Episode 350 - Average Reward : 42.29 Average Moves : 127.5 Average Food Eaten : 2.20\n",
            "Episode 360 - Average Reward : 41.22 Average Moves : 130.44 Average Food Eaten : 2.14\n",
            "Episode 370 - Average Reward : 42.99 Average Moves : 136.24 Average Food Eaten : 2.22\n",
            "Episode 380 - Average Reward : 42.49 Average Moves : 133.86 Average Food Eaten : 2.20\n",
            "Episode 390 - Average Reward : 42.77 Average Moves : 135.86 Average Food Eaten : 2.22\n",
            "Episode 400 - Average Reward : 45.69 Average Moves : 141.68 Average Food Eaten : 2.36\n",
            "Episode 410 - Average Reward : 48.99 Average Moves : 132.66 Average Food Eaten : 2.52\n",
            "Episode 420 - Average Reward : 54.71 Average Moves : 127.42 Average Food Eaten : 2.78\n",
            "Episode 430 - Average Reward : 55.24 Average Moves : 129.6 Average Food Eaten : 2.80\n",
            "Episode 440 - Average Reward : 60.10 Average Moves : 122.06 Average Food Eaten : 3.02\n",
            "Episode 450 - Average Reward : 57.51 Average Moves : 112.68 Average Food Eaten : 2.90\n",
            "Episode 460 - Average Reward : 61.00 Average Moves : 115.96 Average Food Eaten : 3.06\n",
            "Episode 470 - Average Reward : 55.65 Average Moves : 109.7 Average Food Eaten : 2.82\n",
            "Episode 480 - Average Reward : 60.14 Average Moves : 107.3 Average Food Eaten : 3.04\n",
            "Episode 490 - Average Reward : 60.47 Average Moves : 107.42 Average Food Eaten : 3.06\n"
          ]
        }
      ],
      "source": [
        "class DQN_chaseescape_1(torch.nn.Module):\n",
        "    def __init__(self):\n",
        "        super().__init__()\n",
        "        self.sequential_net=nn.Sequential(\n",
        "                            nn.Linear(8,128),\n",
        "                            nn.ReLU(),\n",
        "                            nn.Linear(128,128),\n",
        "                            nn.ReLU(),\n",
        "                            nn.Linear(128,64),\n",
        "                            nn.ReLU(),\n",
        "                            nn.Linear(64,9),\n",
        "                            )\n",
        "    def forward(self, input):\n",
        "        input=input.view(-1,8)\n",
        "        return self.sequential_net(input)\n",
        "model=DQN_chaseescape_1().to(device)\n",
        "target_model=DQN_chaseescape_1().to(device)\n",
        "loss_fn = nn.MSELoss()\n",
        "optimizer=torch.optim.Adam(model.parameters(),lr=0.0005)\n",
        "train_ChaseEscapEnv(model,target_model,loss_fn,optimizer,replay_buffer_size=100000)"
      ]
    },
    {
      "cell_type": "code",
      "execution_count": 20,
      "id": "uHKt4ghYjihD",
      "metadata": {
        "id": "uHKt4ghYjihD",
        "colab": {
          "base_uri": "https://localhost:8080/",
          "height": 430
        },
        "outputId": "7802299f-5b19-4cb5-9d7a-744482df54f1"
      },
      "outputs": [
        {
          "output_type": "display_data",
          "data": {
            "text/plain": [
              "<Figure size 640x480 with 1 Axes>"
            ],
            "image/png": "[encoded data removed]"
          },
          "metadata": {}
        }
      ],
      "source": [
        "plt.plot(np.convolve(rewards_list,np.ones(30)*(1/30),mode='valid'),label='Reward')\n",
        "plt.plot(np.convolve(number_of_moves_list,np.ones(30)*(1/30),mode='valid'),c='red',label='Number of Moves Played')\n",
        "plt.legend()\n",
        "plt.show()"
      ]
    },
    {
      "cell_type": "code",
      "source": [
        "plt.plot(np.convolve(no_of_food_eaten_list,np.ones(30)*(1/30),mode='valid'),c='orange',label='Number Of Times Target Chased')\n",
        "plt.legend()\n",
        "plt.show()"
      ],
      "metadata": {
        "colab": {
          "base_uri": "https://localhost:8080/",
          "height": 432
        },
        "id": "6GBuUBOueN2H",
        "outputId": "fbaf38b1-c033-4414-f4e3-bfc18d78e06a"
      },
      "id": "6GBuUBOueN2H",
      "execution_count": 21,
      "outputs": [
        {
          "output_type": "display_data",
          "data": {
            "text/plain": [
              "<Figure size 640x480 with 1 Axes>"
            ],
            "image/png": "[encoded data removed]"
          },
          "metadata": {}
        }
      ]
    },
    {
      "cell_type": "code",
      "source": [],
      "metadata": {
        "id": "bd4bFRLOeRJ9"
      },
      "id": "bd4bFRLOeRJ9",
      "execution_count": 21,
      "outputs": []
    },
    {
      "cell_type": "code",
      "execution_count": 22,
      "id": "1A1gX8v4j1XJ",
      "metadata": {
        "id": "1A1gX8v4j1XJ"
      },
      "outputs": [],
      "source": [
        "def evaluate_modelChaseEscapeEnv(model,episodes=10, render=True,moves_limit=500):\n",
        "    env = ChaseEscapeEnv(render_mode=\"human\")\n",
        "    target_reached_list=[]\n",
        "    moves_list=[]\n",
        "    # model.eval()\n",
        "    rewards=[]\n",
        "    for episode in range(episodes):\n",
        "        obs, _ = env.reset()\n",
        "        total_reward = 0\n",
        "        done = False\n",
        "        moves=0\n",
        "        target_reached=0\n",
        "        while not done:\n",
        "            moves+=1\n",
        "            obs+=np.random.rand(len(obs))*0.1 #To Avoid the Agent getting Stuck in Loops\n",
        "            state = torch.tensor(obs, dtype=torch.float32).unsqueeze(0).to(device)\n",
        "            with torch.no_grad():\n",
        "                q_values = model(state)\n",
        "                action = torch.argmax(q_values, dim=1).item()\n",
        "            obs, reward, done, k,_, _ = env.step((action%3,(action//3)%3))\n",
        "            if k:\n",
        "              target_reached+=1\n",
        "            if render:\n",
        "                env.render()\n",
        "            if moves>moves_limit:\n",
        "              break\n",
        "        rewards.append(total_reward)\n",
        "        moves_list.append(moves)\n",
        "        target_reached_list.append(target_reached)\n",
        "        print(f\"Episode {episode + 1}: No Of Moves = {moves} Target Chased = {target_reached}\")\n",
        "    env.close()\n",
        "    avg_moves = sum(moves_list)/ episodes\n",
        "    avg_target = sum(target_reached_list)/episodes\n",
        "    print(f\"Average Number of Moves over {episodes} episodes: {avg_moves:.2f}\")\n",
        "    print(f\"Average Number of times Target Chased over {episodes} episodes: {avg_target:.2f}\")\n",
        "\n"
      ]
    },
    {
      "cell_type": "code",
      "source": [
        "evaluate_modelChaseEscapeEnv(model,episodes=50,moves_limit=1500,render=False)\n"
      ],
      "metadata": {
        "id": "9RDkjzjmnfLr",
        "colab": {
          "base_uri": "https://localhost:8080/"
        },
        "outputId": "1a2f0f3e-111c-4867-af89-1c6dcebfe84d"
      },
      "id": "9RDkjzjmnfLr",
      "execution_count": 27,
      "outputs": [
        {
          "output_type": "stream",
          "name": "stdout",
          "text": [
            "Episode 1: No Of Moves = 1501 Target Chased = 44\n",
            "Episode 2: No Of Moves = 251 Target Chased = 5\n",
            "Episode 3: No Of Moves = 354 Target Chased = 11\n",
            "Episode 4: No Of Moves = 559 Target Chased = 17\n",
            "Episode 5: No Of Moves = 29 Target Chased = 0\n",
            "Episode 6: No Of Moves = 599 Target Chased = 18\n",
            "Episode 7: No Of Moves = 203 Target Chased = 3\n",
            "Episode 8: No Of Moves = 1193 Target Chased = 36\n",
            "Episode 9: No Of Moves = 17 Target Chased = 0\n",
            "Episode 10: No Of Moves = 461 Target Chased = 14\n",
            "Episode 11: No Of Moves = 22 Target Chased = 0\n",
            "Episode 12: No Of Moves = 291 Target Chased = 7\n",
            "Episode 13: No Of Moves = 734 Target Chased = 16\n",
            "Episode 14: No Of Moves = 1051 Target Chased = 30\n",
            "Episode 15: No Of Moves = 23 Target Chased = 1\n",
            "Episode 16: No Of Moves = 1501 Target Chased = 47\n",
            "Episode 17: No Of Moves = 292 Target Chased = 5\n",
            "Episode 18: No Of Moves = 87 Target Chased = 3\n",
            "Episode 19: No Of Moves = 134 Target Chased = 4\n",
            "Episode 20: No Of Moves = 52 Target Chased = 0\n",
            "Episode 21: No Of Moves = 60 Target Chased = 0\n",
            "Episode 22: No Of Moves = 654 Target Chased = 14\n",
            "Episode 23: No Of Moves = 1438 Target Chased = 34\n",
            "Episode 24: No Of Moves = 294 Target Chased = 9\n",
            "Episode 25: No Of Moves = 201 Target Chased = 7\n",
            "Episode 26: No Of Moves = 461 Target Chased = 16\n",
            "Episode 27: No Of Moves = 644 Target Chased = 18\n",
            "Episode 28: No Of Moves = 253 Target Chased = 9\n",
            "Episode 29: No Of Moves = 243 Target Chased = 4\n",
            "Episode 30: No Of Moves = 167 Target Chased = 3\n",
            "Episode 31: No Of Moves = 390 Target Chased = 12\n",
            "Episode 32: No Of Moves = 215 Target Chased = 9\n",
            "Episode 33: No Of Moves = 316 Target Chased = 11\n",
            "Episode 34: No Of Moves = 605 Target Chased = 17\n",
            "Episode 35: No Of Moves = 1029 Target Chased = 31\n",
            "Episode 36: No Of Moves = 570 Target Chased = 11\n",
            "Episode 37: No Of Moves = 398 Target Chased = 11\n",
            "Episode 38: No Of Moves = 42 Target Chased = 0\n",
            "Episode 39: No Of Moves = 147 Target Chased = 6\n",
            "Episode 40: No Of Moves = 29 Target Chased = 1\n",
            "Episode 41: No Of Moves = 632 Target Chased = 21\n",
            "Episode 42: No Of Moves = 105 Target Chased = 3\n",
            "Episode 43: No Of Moves = 48 Target Chased = 0\n",
            "Episode 44: No Of Moves = 127 Target Chased = 6\n",
            "Episode 45: No Of Moves = 70 Target Chased = 2\n",
            "Episode 46: No Of Moves = 342 Target Chased = 7\n",
            "Episode 47: No Of Moves = 142 Target Chased = 3\n",
            "Episode 48: No Of Moves = 328 Target Chased = 7\n",
            "Episode 49: No Of Moves = 774 Target Chased = 27\n",
            "Episode 50: No Of Moves = 70 Target Chased = 1\n",
            "Average Number of Moves over 50 episodes: 402.96\n",
            "Average Number of times Target Chased over 50 episodes: 11.22\n"
          ]
        }
      ]
    },
    {
      "cell_type": "code",
      "source": [],
      "metadata": {
        "id": "ysp_xZ_gjf3X"
      },
      "id": "ysp_xZ_gjf3X",
      "execution_count": null,
      "outputs": []
    }
  ],
  "metadata": {
    "accelerator": "GPU",
    "colab": {
      "gpuType": "T4",
      "provenance": []
    },
    "kernelspec": {
      "display_name": "Python 3",
      "name": "python3"
    },
    "language_info": {
      "codemirror_mode": {
        "name": "ipython",
        "version": 3
      },
      "file_extension": ".py",
      "mimetype": "text/x-python",
      "name": "python",
      "nbconvert_exporter": "python",
      "pygments_lexer": "ipython3",
      "version": "3.10.11"
    }
  },
  "nbformat": 4,
  "nbformat_minor": 5
}