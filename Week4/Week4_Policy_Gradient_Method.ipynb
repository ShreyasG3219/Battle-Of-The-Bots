{
  "nbformat": 4,
  "nbformat_minor": 0,
  "metadata": {
    "colab": {
      "provenance": [],
      "gpuType": "T4"
    },
    "kernelspec": {
      "name": "python3",
      "display_name": "Python 3"
    },
    "language_info": {
      "name": "python"
    },
    "accelerator": "GPU"
  },
  "cells": [
    {
      "cell_type": "code",
      "source": [
        "import torch\n",
        "import torch.nn as nn\n",
        "import numpy as np\n",
        "import gymnasium as gym\n",
        "from collections import deque\n",
        "import pygame\n",
        "import random\n",
        "import matplotlib.pyplot as plt"
      ],
      "metadata": {
        "id": "7mLpipr-Lubl"
      },
      "execution_count": 1,
      "outputs": []
    },
    {
      "cell_type": "code",
      "execution_count": 2,
      "metadata": {
        "id": "iyr2svA5JW5F",
        "colab": {
          "base_uri": "https://localhost:8080/"
        },
        "outputId": "fb2bb3cf-9c05-4764-a74c-4db595c39251"
      },
      "outputs": [
        {
          "output_type": "stream",
          "name": "stdout",
          "text": [
            "cuda\n"
          ]
        }
      ],
      "source": [
        "device = torch.device(\"cuda\" if torch.cuda.is_available() else \"cpu\")\n",
        "print(device)"
      ]
    },
    {
      "cell_type": "code",
      "source": [
        "def Policy_Gradient_Train_CartPole_model(model,loss_fn,optimizer,return_calc,episodes=1500,gamma=0.99):\n",
        "  global total_rewards\n",
        "  env = gym.make(\"CartPole-v1\")\n",
        "  model.train()\n",
        "  total_rewards=[]\n",
        "  for episode in range(episodes):\n",
        "\n",
        "    obs,_=env.reset()\n",
        "    max_length=500\n",
        "    length=0\n",
        "    done=False\n",
        "    log_probabilities=[]\n",
        "    rewards=[]\n",
        "    total_reward=0\n",
        "\n",
        "    while not done:\n",
        "\n",
        "      state=torch.from_numpy(obs).float().to(device)\n",
        "      policy=model(state)\n",
        "      policy=torch.squeeze(policy)\n",
        "      probs = torch.nn.functional.softmax(policy, dim=0)\n",
        "      action = torch.multinomial(probs, num_samples=1).item()\n",
        "      log_probabilities.append(torch.log(probs[action]))\n",
        "      obs, reward, done, _ , _ = env.step(action)\n",
        "      total_reward+=reward\n",
        "      rewards.append(reward)\n",
        "\n",
        "      length+=1\n",
        "      if length==max_length:\n",
        "        done=True\n",
        "\n",
        "    returns=return_calc(rewards,gamma)\n",
        "    loss=loss_fn(log_probabilities,returns)\n",
        "    optimizer.zero_grad()\n",
        "    loss.backward()\n",
        "    optimizer.step()\n",
        "    total_rewards.append(total_reward)\n",
        "    if episode%50==0:\n",
        "      print(f\"Episode = {episode} Average Reward = {sum(total_rewards[-50::])/50}\")\n",
        "      if sum(total_rewards[-50::])/50>=470:\n",
        "        break\n",
        "  env.close()"
      ],
      "metadata": {
        "id": "fVpYzSxAaSZK"
      },
      "execution_count": 9,
      "outputs": []
    },
    {
      "cell_type": "code",
      "source": [
        "def return_calc(rewards, gamma):\n",
        "    ep_len = len(rewards)\n",
        "    rewards = torch.tensor(rewards, dtype=torch.float32)\n",
        "    discounted = rewards * torch.pow(gamma, torch.arange(ep_len, dtype=torch.float32))\n",
        "    returns = torch.flip(torch.cumsum(torch.flip(discounted, dims=[0]), dim=0), dims=[0])\n",
        "    returns = returns / torch.pow(gamma, torch.arange(ep_len, dtype=torch.float32))\n",
        "    returns = (returns - returns.mean()) / (returns.std())\n",
        "    return returns\n",
        "def loss_fn(log_probabilities,returns):\n",
        "  log_prob_tensor = torch.stack(log_probabilities)\n",
        "  returns_tensor = torch.tensor(returns, dtype=torch.float32).detach().to(device)\n",
        "  loss = -torch.sum(log_prob_tensor * returns_tensor)\n",
        "  return loss"
      ],
      "metadata": {
        "id": "c827_HblWaw6"
      },
      "execution_count": 5,
      "outputs": []
    },
    {
      "cell_type": "code",
      "source": [
        "class PG_CartPole(torch.nn.Module):\n",
        "    def __init__(self):\n",
        "        super().__init__()\n",
        "        self.sequential_net=nn.Sequential(\n",
        "                            nn.Linear(4,128),\n",
        "                            nn.LeakyReLU(),\n",
        "                            nn.Linear(128,2),\n",
        "                            )\n",
        "    def forward(self, input):\n",
        "        input=input.view(-1,4)\n",
        "        return self.sequential_net(input)\n",
        "model=PG_CartPole().to(device)\n",
        "optimizer=torch.optim.Adam(model.parameters(),lr=0.001)\n",
        "Policy_Gradient_Train_CartPole_model(model,loss_fn,optimizer,return_calc)"
      ],
      "metadata": {
        "id": "_71-lrk9WapU",
        "colab": {
          "base_uri": "https://localhost:8080/"
        },
        "outputId": "55c9d5c7-e259-43e9-b0ad-50f9b58b1e05"
      },
      "execution_count": 11,
      "outputs": [
        {
          "output_type": "stream",
          "name": "stderr",
          "text": [
            "/tmp/ipython-input-10-3631928974.py:11: UserWarning: To copy construct from a tensor, it is recommended to use sourceTensor.clone().detach() or sourceTensor.clone().detach().requires_grad_(True), rather than torch.tensor(sourceTensor).\n",
            "  returns_tensor = torch.tensor(returns, dtype=torch.float32).detach().to(device)\n"
          ]
        },
        {
          "output_type": "stream",
          "name": "stdout",
          "text": [
            "Episode = 0 Average Reward = 0.26\n",
            "Episode = 50 Average Reward = 20.44\n",
            "Episode = 100 Average Reward = 18.4\n",
            "Episode = 150 Average Reward = 33.62\n",
            "Episode = 200 Average Reward = 46.22\n",
            "Episode = 250 Average Reward = 70.8\n",
            "Episode = 300 Average Reward = 106.38\n",
            "Episode = 350 Average Reward = 188.7\n",
            "Episode = 400 Average Reward = 199.76\n",
            "Episode = 450 Average Reward = 327.7\n",
            "Episode = 500 Average Reward = 388.42\n",
            "Episode = 550 Average Reward = 440.82\n",
            "Episode = 600 Average Reward = 401.68\n",
            "Episode = 650 Average Reward = 329.36\n",
            "Episode = 700 Average Reward = 430.48\n",
            "Episode = 750 Average Reward = 486.98\n"
          ]
        }
      ]
    },
    {
      "cell_type": "code",
      "source": [
        "plt.plot(np.convolve(total_rewards,np.ones(50)*0.02,mode='valid'),label='Avergae Rewards')\n",
        "plt.legend()\n",
        "plt.plot()"
      ],
      "metadata": {
        "id": "eabpbajZqMqw",
        "colab": {
          "base_uri": "https://localhost:8080/",
          "height": 447
        },
        "outputId": "a6aa7648-dae4-4a21-a349-071a46e7df75"
      },
      "execution_count": 12,
      "outputs": [
        {
          "output_type": "execute_result",
          "data": {
            "text/plain": [
              "[]"
            ]
          },
          "metadata": {},
          "execution_count": 12
        },
        {
          "output_type": "display_data",
          "data": {
            "text/plain": [
              "<Figure size 640x480 with 1 Axes>"
            ],
            "image/png": "[encoded data removed]"
          },
          "metadata": {}
        }
      ]
    },
    {
      "cell_type": "code",
      "source": [
        "def evaluate_cartpole_model(model, episodes=15, render=True):\n",
        "    env = gym.make(\"CartPole-v1\", render_mode=\"human\" if render else None)\n",
        "    obs_dim = env.observation_space.shape[0]\n",
        "    n_actions = env.action_space.n\n",
        "\n",
        "    model.eval()\n",
        "\n",
        "    rewards = []\n",
        "\n",
        "    for episode in range(episodes):\n",
        "        obs, _ = env.reset()\n",
        "        total_reward = 0\n",
        "        done = False\n",
        "\n",
        "        while not done:\n",
        "            state = torch.tensor(obs, dtype=torch.float32).unsqueeze(0).to(device)\n",
        "            with torch.no_grad():\n",
        "                q_values = model(state)\n",
        "                action = torch.argmax(q_values, dim=1).item()\n",
        "            obs, reward, done, truncated, _ = env.step(action)\n",
        "            if truncated:\n",
        "              done=True\n",
        "            total_reward += reward\n",
        "            if render:\n",
        "                env.render()\n",
        "        rewards.append(total_reward)\n",
        "        print(f\"Episode {episode + 1}: Reward = {total_reward}\")\n",
        "\n",
        "    env.close()\n",
        "    avg_reward = sum(rewards) / episodes\n",
        "    print(f\"Average reward over {episodes} episodes: {avg_reward}\")"
      ],
      "metadata": {
        "id": "ZWysiwuXa6n4"
      },
      "execution_count": 13,
      "outputs": []
    },
    {
      "cell_type": "code",
      "source": [
        "evaluate_cartpole_model(model,render=False)\n"
      ],
      "metadata": {
        "colab": {
          "base_uri": "https://localhost:8080/"
        },
        "id": "DXAhDvvF3lk1",
        "outputId": "6d342efa-04fe-4648-8421-f8e5ec724a47"
      },
      "execution_count": 14,
      "outputs": [
        {
          "output_type": "stream",
          "name": "stdout",
          "text": [
            "Episode 1: Reward = 500.0\n",
            "Episode 2: Reward = 500.0\n",
            "Episode 3: Reward = 500.0\n",
            "Episode 4: Reward = 500.0\n",
            "Episode 5: Reward = 500.0\n",
            "Episode 6: Reward = 500.0\n",
            "Episode 7: Reward = 500.0\n",
            "Episode 8: Reward = 500.0\n",
            "Episode 9: Reward = 500.0\n",
            "Episode 10: Reward = 500.0\n",
            "Episode 11: Reward = 500.0\n",
            "Episode 12: Reward = 500.0\n",
            "Episode 13: Reward = 500.0\n",
            "Episode 14: Reward = 500.0\n",
            "Episode 15: Reward = 500.0\n",
            "Average reward over 15 episodes: 500.0\n"
          ]
        }
      ]
    }
  ]
}